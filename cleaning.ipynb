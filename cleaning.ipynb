{
 "cells": [
  {
   "cell_type": "code",
   "execution_count": 1,
   "id": "946cc1fc",
   "metadata": {},
   "outputs": [
    {
     "name": "stdout",
     "output_type": "stream",
     "text": [
      "<class 'pandas.core.frame.DataFrame'>\n",
      "RangeIndex: 4464 entries, 0 to 4463\n",
      "Data columns (total 8 columns):\n",
      " #   Column             Non-Null Count  Dtype  \n",
      "---  ------             --------------  -----  \n",
      " 0   Book Name          4464 non-null   object \n",
      " 1   Author             4464 non-null   object \n",
      " 2   Rating             4464 non-null   float64\n",
      " 3   Number of Reviews  4043 non-null   float64\n",
      " 4   Price              4464 non-null   int64  \n",
      " 5   Description        4458 non-null   object \n",
      " 6   Listening Time     4464 non-null   object \n",
      " 7   Ranks and Genre    4464 non-null   object \n",
      "dtypes: float64(2), int64(1), object(5)\n",
      "memory usage: 279.1+ KB\n",
      "<class 'pandas.core.frame.DataFrame'>\n",
      "RangeIndex: 6368 entries, 0 to 6367\n",
      "Data columns (total 5 columns):\n",
      " #   Column             Non-Null Count  Dtype  \n",
      "---  ------             --------------  -----  \n",
      " 0   Book Name          6368 non-null   object \n",
      " 1   Author             6368 non-null   object \n",
      " 2   Rating             6368 non-null   float64\n",
      " 3   Number of Reviews  5737 non-null   float64\n",
      " 4   Price              6365 non-null   float64\n",
      "dtypes: float64(3), object(2)\n",
      "memory usage: 248.9+ KB\n"
     ]
    },
    {
     "data": {
      "text/plain": [
       "((None,\n",
       "                                             Book Name          Author  Rating  \\\n",
       "  0  Think Like a Monk: The Secret of How to Harnes...      Jay Shetty     4.9   \n",
       "  1  Ikigai: The Japanese Secret to a Long and Happ...   Héctor García     4.6   \n",
       "  2  The Subtle Art of Not Giving a F*ck: A Counter...     Mark Manson     4.4   \n",
       "  3  Atomic Habits: An Easy and Proven Way to Build...     James Clear     4.6   \n",
       "  4  Life's Amazing Secrets: How to Find Balance an...  Gaur Gopal Das     4.6   \n",
       "  \n",
       "     Number of Reviews  Price  \\\n",
       "  0              371.0  10080   \n",
       "  1             3682.0    615   \n",
       "  2            20306.0  10378   \n",
       "  3             4678.0    888   \n",
       "  4             4308.0   1005   \n",
       "  \n",
       "                                           Description           Listening Time  \\\n",
       "  0  Over the past three years, Jay Shetty has beco...  10 hours and 54 minutes   \n",
       "  1                         Brought to you by Penguin.   3 hours and 23 minutes   \n",
       "  2  In this generation-defining self-help guide, a...   5 hours and 17 minutes   \n",
       "  3                         Brought to you by Penguin.   5 hours and 35 minutes   \n",
       "  4  Stop going through life,  Start growing throug...   6 hours and 25 minutes   \n",
       "  \n",
       "                                       Ranks and Genre  \n",
       "  0  ,#1 in Audible Audiobooks & Originals (See Top...  \n",
       "  1  ,#2 in Audible Audiobooks & Originals (See Top...  \n",
       "  2  ,#3 in Audible Audiobooks & Originals (See Top...  \n",
       "  3  ,#5 in Audible Audiobooks & Originals (See Top...  \n",
       "  4  ,#6 in Audible Audiobooks & Originals (See Top...  ),\n",
       " (None,\n",
       "                                             Book Name          Author  Rating  \\\n",
       "  0  Think Like a Monk: The Secret of How to Harnes...      Jay Shetty     4.9   \n",
       "  1  Ikigai: The Japanese Secret to a Long and Happ...   Héctor García     4.6   \n",
       "  2  The Subtle Art of Not Giving a F*ck: A Counter...     Mark Manson     4.4   \n",
       "  3  Atomic Habits: An Easy and Proven Way to Build...     James Clear     4.6   \n",
       "  4  Life's Amazing Secrets: How to Find Balance an...  Gaur Gopal Das     4.6   \n",
       "  \n",
       "     Number of Reviews    Price  \n",
       "  0              313.0  10080.0  \n",
       "  1             3658.0    615.0  \n",
       "  2            20174.0  10378.0  \n",
       "  3             4614.0    888.0  \n",
       "  4             4302.0   1005.0  ))"
      ]
     },
     "execution_count": 1,
     "metadata": {},
     "output_type": "execute_result"
    }
   ],
   "source": [
    "import pandas as pd\n",
    "\n",
    "df1=pd.read_csv('Audible_Catlog_Advanced_Features.csv')\n",
    "df2=pd.read_csv('Audible_Catlog.csv')\n",
    "\n",
    "# Display basic info and first few rows\n",
    "df1_info = df1.info(), df1.head()\n",
    "df2_info = df2.info(), df2.head()\n",
    "\n",
    "df1_info, df2_info\n",
    "\n"
   ]
  },
  {
   "cell_type": "code",
   "execution_count": 2,
   "id": "3629666f",
   "metadata": {},
   "outputs": [
    {
     "data": {
      "text/html": [
       "<div>\n",
       "<style scoped>\n",
       "    .dataframe tbody tr th:only-of-type {\n",
       "        vertical-align: middle;\n",
       "    }\n",
       "\n",
       "    .dataframe tbody tr th {\n",
       "        vertical-align: top;\n",
       "    }\n",
       "\n",
       "    .dataframe thead th {\n",
       "        text-align: right;\n",
       "    }\n",
       "</style>\n",
       "<table border=\"1\" class=\"dataframe\">\n",
       "  <thead>\n",
       "    <tr style=\"text-align: right;\">\n",
       "      <th></th>\n",
       "      <th>Book Name</th>\n",
       "      <th>Author</th>\n",
       "      <th>Rating_df1</th>\n",
       "      <th>Number of Reviews_df1</th>\n",
       "      <th>Price_df1</th>\n",
       "      <th>Description</th>\n",
       "      <th>Listening Time</th>\n",
       "      <th>Ranks and Genre</th>\n",
       "      <th>Rating_df2</th>\n",
       "      <th>Number of Reviews_df2</th>\n",
       "      <th>Price_df2</th>\n",
       "    </tr>\n",
       "  </thead>\n",
       "  <tbody>\n",
       "    <tr>\n",
       "      <th>0</th>\n",
       "      <td>Think Like a Monk: The Secret of How to Harnes...</td>\n",
       "      <td>Jay Shetty</td>\n",
       "      <td>4.9</td>\n",
       "      <td>371.0</td>\n",
       "      <td>10080</td>\n",
       "      <td>Over the past three years, Jay Shetty has beco...</td>\n",
       "      <td>10 hours and 54 minutes</td>\n",
       "      <td>,#1 in Audible Audiobooks &amp; Originals (See Top...</td>\n",
       "      <td>4.9</td>\n",
       "      <td>313.0</td>\n",
       "      <td>10080.0</td>\n",
       "    </tr>\n",
       "    <tr>\n",
       "      <th>1</th>\n",
       "      <td>Ikigai: The Japanese Secret to a Long and Happ...</td>\n",
       "      <td>Héctor García</td>\n",
       "      <td>4.6</td>\n",
       "      <td>3682.0</td>\n",
       "      <td>615</td>\n",
       "      <td>Brought to you by Penguin.</td>\n",
       "      <td>3 hours and 23 minutes</td>\n",
       "      <td>,#2 in Audible Audiobooks &amp; Originals (See Top...</td>\n",
       "      <td>4.6</td>\n",
       "      <td>3658.0</td>\n",
       "      <td>615.0</td>\n",
       "    </tr>\n",
       "    <tr>\n",
       "      <th>2</th>\n",
       "      <td>The Subtle Art of Not Giving a F*ck: A Counter...</td>\n",
       "      <td>Mark Manson</td>\n",
       "      <td>4.4</td>\n",
       "      <td>20306.0</td>\n",
       "      <td>10378</td>\n",
       "      <td>In this generation-defining self-help guide, a...</td>\n",
       "      <td>5 hours and 17 minutes</td>\n",
       "      <td>,#3 in Audible Audiobooks &amp; Originals (See Top...</td>\n",
       "      <td>4.4</td>\n",
       "      <td>20174.0</td>\n",
       "      <td>10378.0</td>\n",
       "    </tr>\n",
       "    <tr>\n",
       "      <th>3</th>\n",
       "      <td>Atomic Habits: An Easy and Proven Way to Build...</td>\n",
       "      <td>James Clear</td>\n",
       "      <td>4.6</td>\n",
       "      <td>4678.0</td>\n",
       "      <td>888</td>\n",
       "      <td>Brought to you by Penguin.</td>\n",
       "      <td>5 hours and 35 minutes</td>\n",
       "      <td>,#5 in Audible Audiobooks &amp; Originals (See Top...</td>\n",
       "      <td>4.6</td>\n",
       "      <td>4614.0</td>\n",
       "      <td>888.0</td>\n",
       "    </tr>\n",
       "    <tr>\n",
       "      <th>4</th>\n",
       "      <td>Life's Amazing Secrets: How to Find Balance an...</td>\n",
       "      <td>Gaur Gopal Das</td>\n",
       "      <td>4.6</td>\n",
       "      <td>4308.0</td>\n",
       "      <td>1005</td>\n",
       "      <td>Stop going through life,  Start growing throug...</td>\n",
       "      <td>6 hours and 25 minutes</td>\n",
       "      <td>,#6 in Audible Audiobooks &amp; Originals (See Top...</td>\n",
       "      <td>4.6</td>\n",
       "      <td>4302.0</td>\n",
       "      <td>1005.0</td>\n",
       "    </tr>\n",
       "    <tr>\n",
       "      <th>...</th>\n",
       "      <td>...</td>\n",
       "      <td>...</td>\n",
       "      <td>...</td>\n",
       "      <td>...</td>\n",
       "      <td>...</td>\n",
       "      <td>...</td>\n",
       "      <td>...</td>\n",
       "      <td>...</td>\n",
       "      <td>...</td>\n",
       "      <td>...</td>\n",
       "      <td>...</td>\n",
       "    </tr>\n",
       "    <tr>\n",
       "      <th>4246</th>\n",
       "      <td>Passion and Purity: Learning to Bring Your Lov...</td>\n",
       "      <td>Elisabeth Elliot</td>\n",
       "      <td>4.8</td>\n",
       "      <td>156.0</td>\n",
       "      <td>608</td>\n",
       "      <td>\\n\\nOops!\\nIt's rush hour and traffic is pilin...</td>\n",
       "      <td>-1</td>\n",
       "      <td>-1</td>\n",
       "      <td>4.8</td>\n",
       "      <td>153.0</td>\n",
       "      <td>608.0</td>\n",
       "    </tr>\n",
       "    <tr>\n",
       "      <th>4247</th>\n",
       "      <td>Things I Wish I'd Known Before We Got Married</td>\n",
       "      <td>Gary Chapman</td>\n",
       "      <td>4.7</td>\n",
       "      <td>1388.0</td>\n",
       "      <td>516</td>\n",
       "      <td>\\n\\nOops!\\nIt's rush hour and traffic is pilin...</td>\n",
       "      <td>-1</td>\n",
       "      <td>-1</td>\n",
       "      <td>4.7</td>\n",
       "      <td>1379.0</td>\n",
       "      <td>516.0</td>\n",
       "    </tr>\n",
       "    <tr>\n",
       "      <th>4248</th>\n",
       "      <td>Things I Wish I'd Known Before We Got Married</td>\n",
       "      <td>Gary Chapman</td>\n",
       "      <td>4.7</td>\n",
       "      <td>1388.0</td>\n",
       "      <td>516</td>\n",
       "      <td>\\n\\nOops!\\nIt's rush hour and traffic is pilin...</td>\n",
       "      <td>-1</td>\n",
       "      <td>-1</td>\n",
       "      <td>4.7</td>\n",
       "      <td>1379.0</td>\n",
       "      <td>516.0</td>\n",
       "    </tr>\n",
       "    <tr>\n",
       "      <th>4249</th>\n",
       "      <td>The Disease Delusion: Conquering the Causes of...</td>\n",
       "      <td>Dr. Jeffrey S. Bland</td>\n",
       "      <td>4.7</td>\n",
       "      <td>259.0</td>\n",
       "      <td>12356</td>\n",
       "      <td>Disease care vs health care: Which would you c...</td>\n",
       "      <td>-1</td>\n",
       "      <td>-1</td>\n",
       "      <td>4.7</td>\n",
       "      <td>256.0</td>\n",
       "      <td>12356.0</td>\n",
       "    </tr>\n",
       "    <tr>\n",
       "      <th>4250</th>\n",
       "      <td>The Disease Delusion: Conquering the Causes of...</td>\n",
       "      <td>Dr. Jeffrey S. Bland</td>\n",
       "      <td>4.7</td>\n",
       "      <td>259.0</td>\n",
       "      <td>12356</td>\n",
       "      <td>Disease care vs health care: Which would you c...</td>\n",
       "      <td>-1</td>\n",
       "      <td>-1</td>\n",
       "      <td>4.7</td>\n",
       "      <td>256.0</td>\n",
       "      <td>12356.0</td>\n",
       "    </tr>\n",
       "  </tbody>\n",
       "</table>\n",
       "<p>4251 rows × 11 columns</p>\n",
       "</div>"
      ],
      "text/plain": [
       "                                              Book Name                Author  \\\n",
       "0     Think Like a Monk: The Secret of How to Harnes...            Jay Shetty   \n",
       "1     Ikigai: The Japanese Secret to a Long and Happ...         Héctor García   \n",
       "2     The Subtle Art of Not Giving a F*ck: A Counter...           Mark Manson   \n",
       "3     Atomic Habits: An Easy and Proven Way to Build...           James Clear   \n",
       "4     Life's Amazing Secrets: How to Find Balance an...        Gaur Gopal Das   \n",
       "...                                                 ...                   ...   \n",
       "4246  Passion and Purity: Learning to Bring Your Lov...      Elisabeth Elliot   \n",
       "4247      Things I Wish I'd Known Before We Got Married          Gary Chapman   \n",
       "4248      Things I Wish I'd Known Before We Got Married          Gary Chapman   \n",
       "4249  The Disease Delusion: Conquering the Causes of...  Dr. Jeffrey S. Bland   \n",
       "4250  The Disease Delusion: Conquering the Causes of...  Dr. Jeffrey S. Bland   \n",
       "\n",
       "      Rating_df1  Number of Reviews_df1  Price_df1  \\\n",
       "0            4.9                  371.0      10080   \n",
       "1            4.6                 3682.0        615   \n",
       "2            4.4                20306.0      10378   \n",
       "3            4.6                 4678.0        888   \n",
       "4            4.6                 4308.0       1005   \n",
       "...          ...                    ...        ...   \n",
       "4246         4.8                  156.0        608   \n",
       "4247         4.7                 1388.0        516   \n",
       "4248         4.7                 1388.0        516   \n",
       "4249         4.7                  259.0      12356   \n",
       "4250         4.7                  259.0      12356   \n",
       "\n",
       "                                            Description  \\\n",
       "0     Over the past three years, Jay Shetty has beco...   \n",
       "1                            Brought to you by Penguin.   \n",
       "2     In this generation-defining self-help guide, a...   \n",
       "3                            Brought to you by Penguin.   \n",
       "4     Stop going through life,  Start growing throug...   \n",
       "...                                                 ...   \n",
       "4246  \\n\\nOops!\\nIt's rush hour and traffic is pilin...   \n",
       "4247  \\n\\nOops!\\nIt's rush hour and traffic is pilin...   \n",
       "4248  \\n\\nOops!\\nIt's rush hour and traffic is pilin...   \n",
       "4249  Disease care vs health care: Which would you c...   \n",
       "4250  Disease care vs health care: Which would you c...   \n",
       "\n",
       "               Listening Time  \\\n",
       "0     10 hours and 54 minutes   \n",
       "1      3 hours and 23 minutes   \n",
       "2      5 hours and 17 minutes   \n",
       "3      5 hours and 35 minutes   \n",
       "4      6 hours and 25 minutes   \n",
       "...                       ...   \n",
       "4246                       -1   \n",
       "4247                       -1   \n",
       "4248                       -1   \n",
       "4249                       -1   \n",
       "4250                       -1   \n",
       "\n",
       "                                        Ranks and Genre  Rating_df2  \\\n",
       "0     ,#1 in Audible Audiobooks & Originals (See Top...         4.9   \n",
       "1     ,#2 in Audible Audiobooks & Originals (See Top...         4.6   \n",
       "2     ,#3 in Audible Audiobooks & Originals (See Top...         4.4   \n",
       "3     ,#5 in Audible Audiobooks & Originals (See Top...         4.6   \n",
       "4     ,#6 in Audible Audiobooks & Originals (See Top...         4.6   \n",
       "...                                                 ...         ...   \n",
       "4246                                                 -1         4.8   \n",
       "4247                                                 -1         4.7   \n",
       "4248                                                 -1         4.7   \n",
       "4249                                                 -1         4.7   \n",
       "4250                                                 -1         4.7   \n",
       "\n",
       "      Number of Reviews_df2  Price_df2  \n",
       "0                     313.0    10080.0  \n",
       "1                    3658.0      615.0  \n",
       "2                   20174.0    10378.0  \n",
       "3                    4614.0      888.0  \n",
       "4                    4302.0     1005.0  \n",
       "...                     ...        ...  \n",
       "4246                  153.0      608.0  \n",
       "4247                 1379.0      516.0  \n",
       "4248                 1379.0      516.0  \n",
       "4249                  256.0    12356.0  \n",
       "4250                  256.0    12356.0  \n",
       "\n",
       "[4251 rows x 11 columns]"
      ]
     },
     "execution_count": 2,
     "metadata": {},
     "output_type": "execute_result"
    }
   ],
   "source": [
    "# Merge datasets on 'Book Name' and 'Author' while avoiding duplicate columns\n",
    "df = pd.merge(df1, df2, on=[\"Book Name\", \"Author\"], suffixes=('_df1', '_df2'))\n",
    "df"
   ]
  },
  {
   "cell_type": "code",
   "execution_count": 3,
   "id": "b5b204cb",
   "metadata": {},
   "outputs": [],
   "source": [
    "# Drop duplicate rating, review, and price columns (keep only one set)\n",
    "df = df.drop(columns=['Rating_df1', 'Number of Reviews_df1', 'Price_df1'])\n"
   ]
  },
  {
   "cell_type": "code",
   "execution_count": 4,
   "id": "4e6d51b8",
   "metadata": {},
   "outputs": [
    {
     "data": {
      "text/html": [
       "<div>\n",
       "<style scoped>\n",
       "    .dataframe tbody tr th:only-of-type {\n",
       "        vertical-align: middle;\n",
       "    }\n",
       "\n",
       "    .dataframe tbody tr th {\n",
       "        vertical-align: top;\n",
       "    }\n",
       "\n",
       "    .dataframe thead th {\n",
       "        text-align: right;\n",
       "    }\n",
       "</style>\n",
       "<table border=\"1\" class=\"dataframe\">\n",
       "  <thead>\n",
       "    <tr style=\"text-align: right;\">\n",
       "      <th></th>\n",
       "      <th>Book Name</th>\n",
       "      <th>Author</th>\n",
       "      <th>Description</th>\n",
       "      <th>Listening Time</th>\n",
       "      <th>Rank_Genre</th>\n",
       "      <th>Rating</th>\n",
       "      <th>Number of Reviews</th>\n",
       "      <th>Price</th>\n",
       "    </tr>\n",
       "  </thead>\n",
       "  <tbody>\n",
       "    <tr>\n",
       "      <th>0</th>\n",
       "      <td>Think Like a Monk: The Secret of How to Harnes...</td>\n",
       "      <td>Jay Shetty</td>\n",
       "      <td>Over the past three years, Jay Shetty has beco...</td>\n",
       "      <td>10 hours and 54 minutes</td>\n",
       "      <td>,#1 in Audible Audiobooks &amp; Originals (See Top...</td>\n",
       "      <td>4.9</td>\n",
       "      <td>313.0</td>\n",
       "      <td>10080.0</td>\n",
       "    </tr>\n",
       "    <tr>\n",
       "      <th>1</th>\n",
       "      <td>Ikigai: The Japanese Secret to a Long and Happ...</td>\n",
       "      <td>Héctor García</td>\n",
       "      <td>Brought to you by Penguin.</td>\n",
       "      <td>3 hours and 23 minutes</td>\n",
       "      <td>,#2 in Audible Audiobooks &amp; Originals (See Top...</td>\n",
       "      <td>4.6</td>\n",
       "      <td>3658.0</td>\n",
       "      <td>615.0</td>\n",
       "    </tr>\n",
       "    <tr>\n",
       "      <th>2</th>\n",
       "      <td>The Subtle Art of Not Giving a F*ck: A Counter...</td>\n",
       "      <td>Mark Manson</td>\n",
       "      <td>In this generation-defining self-help guide, a...</td>\n",
       "      <td>5 hours and 17 minutes</td>\n",
       "      <td>,#3 in Audible Audiobooks &amp; Originals (See Top...</td>\n",
       "      <td>4.4</td>\n",
       "      <td>20174.0</td>\n",
       "      <td>10378.0</td>\n",
       "    </tr>\n",
       "    <tr>\n",
       "      <th>3</th>\n",
       "      <td>Atomic Habits: An Easy and Proven Way to Build...</td>\n",
       "      <td>James Clear</td>\n",
       "      <td>Brought to you by Penguin.</td>\n",
       "      <td>5 hours and 35 minutes</td>\n",
       "      <td>,#5 in Audible Audiobooks &amp; Originals (See Top...</td>\n",
       "      <td>4.6</td>\n",
       "      <td>4614.0</td>\n",
       "      <td>888.0</td>\n",
       "    </tr>\n",
       "    <tr>\n",
       "      <th>4</th>\n",
       "      <td>Life's Amazing Secrets: How to Find Balance an...</td>\n",
       "      <td>Gaur Gopal Das</td>\n",
       "      <td>Stop going through life,  Start growing throug...</td>\n",
       "      <td>6 hours and 25 minutes</td>\n",
       "      <td>,#6 in Audible Audiobooks &amp; Originals (See Top...</td>\n",
       "      <td>4.6</td>\n",
       "      <td>4302.0</td>\n",
       "      <td>1005.0</td>\n",
       "    </tr>\n",
       "    <tr>\n",
       "      <th>...</th>\n",
       "      <td>...</td>\n",
       "      <td>...</td>\n",
       "      <td>...</td>\n",
       "      <td>...</td>\n",
       "      <td>...</td>\n",
       "      <td>...</td>\n",
       "      <td>...</td>\n",
       "      <td>...</td>\n",
       "    </tr>\n",
       "    <tr>\n",
       "      <th>4246</th>\n",
       "      <td>Passion and Purity: Learning to Bring Your Lov...</td>\n",
       "      <td>Elisabeth Elliot</td>\n",
       "      <td>\\n\\nOops!\\nIt's rush hour and traffic is pilin...</td>\n",
       "      <td>-1</td>\n",
       "      <td>-1</td>\n",
       "      <td>4.8</td>\n",
       "      <td>153.0</td>\n",
       "      <td>608.0</td>\n",
       "    </tr>\n",
       "    <tr>\n",
       "      <th>4247</th>\n",
       "      <td>Things I Wish I'd Known Before We Got Married</td>\n",
       "      <td>Gary Chapman</td>\n",
       "      <td>\\n\\nOops!\\nIt's rush hour and traffic is pilin...</td>\n",
       "      <td>-1</td>\n",
       "      <td>-1</td>\n",
       "      <td>4.7</td>\n",
       "      <td>1379.0</td>\n",
       "      <td>516.0</td>\n",
       "    </tr>\n",
       "    <tr>\n",
       "      <th>4248</th>\n",
       "      <td>Things I Wish I'd Known Before We Got Married</td>\n",
       "      <td>Gary Chapman</td>\n",
       "      <td>\\n\\nOops!\\nIt's rush hour and traffic is pilin...</td>\n",
       "      <td>-1</td>\n",
       "      <td>-1</td>\n",
       "      <td>4.7</td>\n",
       "      <td>1379.0</td>\n",
       "      <td>516.0</td>\n",
       "    </tr>\n",
       "    <tr>\n",
       "      <th>4249</th>\n",
       "      <td>The Disease Delusion: Conquering the Causes of...</td>\n",
       "      <td>Dr. Jeffrey S. Bland</td>\n",
       "      <td>Disease care vs health care: Which would you c...</td>\n",
       "      <td>-1</td>\n",
       "      <td>-1</td>\n",
       "      <td>4.7</td>\n",
       "      <td>256.0</td>\n",
       "      <td>12356.0</td>\n",
       "    </tr>\n",
       "    <tr>\n",
       "      <th>4250</th>\n",
       "      <td>The Disease Delusion: Conquering the Causes of...</td>\n",
       "      <td>Dr. Jeffrey S. Bland</td>\n",
       "      <td>Disease care vs health care: Which would you c...</td>\n",
       "      <td>-1</td>\n",
       "      <td>-1</td>\n",
       "      <td>4.7</td>\n",
       "      <td>256.0</td>\n",
       "      <td>12356.0</td>\n",
       "    </tr>\n",
       "  </tbody>\n",
       "</table>\n",
       "<p>4251 rows × 8 columns</p>\n",
       "</div>"
      ],
      "text/plain": [
       "                                              Book Name                Author  \\\n",
       "0     Think Like a Monk: The Secret of How to Harnes...            Jay Shetty   \n",
       "1     Ikigai: The Japanese Secret to a Long and Happ...         Héctor García   \n",
       "2     The Subtle Art of Not Giving a F*ck: A Counter...           Mark Manson   \n",
       "3     Atomic Habits: An Easy and Proven Way to Build...           James Clear   \n",
       "4     Life's Amazing Secrets: How to Find Balance an...        Gaur Gopal Das   \n",
       "...                                                 ...                   ...   \n",
       "4246  Passion and Purity: Learning to Bring Your Lov...      Elisabeth Elliot   \n",
       "4247      Things I Wish I'd Known Before We Got Married          Gary Chapman   \n",
       "4248      Things I Wish I'd Known Before We Got Married          Gary Chapman   \n",
       "4249  The Disease Delusion: Conquering the Causes of...  Dr. Jeffrey S. Bland   \n",
       "4250  The Disease Delusion: Conquering the Causes of...  Dr. Jeffrey S. Bland   \n",
       "\n",
       "                                            Description  \\\n",
       "0     Over the past three years, Jay Shetty has beco...   \n",
       "1                            Brought to you by Penguin.   \n",
       "2     In this generation-defining self-help guide, a...   \n",
       "3                            Brought to you by Penguin.   \n",
       "4     Stop going through life,  Start growing throug...   \n",
       "...                                                 ...   \n",
       "4246  \\n\\nOops!\\nIt's rush hour and traffic is pilin...   \n",
       "4247  \\n\\nOops!\\nIt's rush hour and traffic is pilin...   \n",
       "4248  \\n\\nOops!\\nIt's rush hour and traffic is pilin...   \n",
       "4249  Disease care vs health care: Which would you c...   \n",
       "4250  Disease care vs health care: Which would you c...   \n",
       "\n",
       "               Listening Time  \\\n",
       "0     10 hours and 54 minutes   \n",
       "1      3 hours and 23 minutes   \n",
       "2      5 hours and 17 minutes   \n",
       "3      5 hours and 35 minutes   \n",
       "4      6 hours and 25 minutes   \n",
       "...                       ...   \n",
       "4246                       -1   \n",
       "4247                       -1   \n",
       "4248                       -1   \n",
       "4249                       -1   \n",
       "4250                       -1   \n",
       "\n",
       "                                             Rank_Genre  Rating  \\\n",
       "0     ,#1 in Audible Audiobooks & Originals (See Top...     4.9   \n",
       "1     ,#2 in Audible Audiobooks & Originals (See Top...     4.6   \n",
       "2     ,#3 in Audible Audiobooks & Originals (See Top...     4.4   \n",
       "3     ,#5 in Audible Audiobooks & Originals (See Top...     4.6   \n",
       "4     ,#6 in Audible Audiobooks & Originals (See Top...     4.6   \n",
       "...                                                 ...     ...   \n",
       "4246                                                 -1     4.8   \n",
       "4247                                                 -1     4.7   \n",
       "4248                                                 -1     4.7   \n",
       "4249                                                 -1     4.7   \n",
       "4250                                                 -1     4.7   \n",
       "\n",
       "      Number of Reviews    Price  \n",
       "0                 313.0  10080.0  \n",
       "1                3658.0    615.0  \n",
       "2               20174.0  10378.0  \n",
       "3                4614.0    888.0  \n",
       "4                4302.0   1005.0  \n",
       "...                 ...      ...  \n",
       "4246              153.0    608.0  \n",
       "4247             1379.0    516.0  \n",
       "4248             1379.0    516.0  \n",
       "4249              256.0  12356.0  \n",
       "4250              256.0  12356.0  \n",
       "\n",
       "[4251 rows x 8 columns]"
      ]
     },
     "execution_count": 4,
     "metadata": {},
     "output_type": "execute_result"
    }
   ],
   "source": [
    "# Rename columns for clarity\n",
    "df.rename(columns={\n",
    "    'Rating_df2': 'Rating',\n",
    "    'Number of Reviews_df2': 'Number of Reviews',\n",
    "    'Price_df2': 'Price',\n",
    "    'Ranks and Genre': 'Rank_Genre'\n",
    "}, inplace=True)\n",
    "\n",
    "df"
   ]
  },
  {
   "cell_type": "code",
   "execution_count": 5,
   "id": "e4b6f2a3",
   "metadata": {},
   "outputs": [
    {
     "data": {
      "text/plain": [
       "Index(['Book Name', 'Author', 'Description', 'Listening Time', 'Rank_Genre',\n",
       "       'Rating', 'Number of Reviews', 'Price'],\n",
       "      dtype='object')"
      ]
     },
     "execution_count": 5,
     "metadata": {},
     "output_type": "execute_result"
    }
   ],
   "source": [
    "df.columns"
   ]
  },
  {
   "cell_type": "code",
   "execution_count": 6,
   "id": "10c5e53a",
   "metadata": {},
   "outputs": [
    {
     "data": {
      "text/plain": [
       "0                 Jay Shetty\n",
       "1              Héctor García\n",
       "2                Mark Manson\n",
       "3                James Clear\n",
       "4             Gaur Gopal Das\n",
       "                ...         \n",
       "4246        Elisabeth Elliot\n",
       "4247            Gary Chapman\n",
       "4248            Gary Chapman\n",
       "4249    Dr. Jeffrey S. Bland\n",
       "4250    Dr. Jeffrey S. Bland\n",
       "Name: Author, Length: 4251, dtype: object"
      ]
     },
     "execution_count": 6,
     "metadata": {},
     "output_type": "execute_result"
    }
   ],
   "source": [
    "df['Author']"
   ]
  },
  {
   "cell_type": "code",
   "execution_count": 7,
   "id": "86dc7e91",
   "metadata": {},
   "outputs": [],
   "source": [
    "df['Author'] = df['Author'].str.strip()  # Remove leading/trailing spaces\n",
    "df['Author'] = df['Author'].str.title()  # Convert to title case\n"
   ]
  },
  {
   "cell_type": "code",
   "execution_count": 8,
   "id": "7d035115",
   "metadata": {},
   "outputs": [
    {
     "data": {
      "text/plain": [
       "np.int64(0)"
      ]
     },
     "execution_count": 8,
     "metadata": {},
     "output_type": "execute_result"
    }
   ],
   "source": [
    "df['Author'].isnull().sum()"
   ]
  },
  {
   "cell_type": "code",
   "execution_count": 9,
   "id": "609318fa",
   "metadata": {},
   "outputs": [
    {
     "name": "stderr",
     "output_type": "stream",
     "text": [
      "/var/folders/04/gq_w2km90pjc_9np76jkv7q80000gn/T/ipykernel_4631/3142254368.py:2: FutureWarning: A value is trying to be set on a copy of a DataFrame or Series through chained assignment using an inplace method.\n",
      "The behavior will change in pandas 3.0. This inplace method will never work because the intermediate object on which we are setting values always behaves as a copy.\n",
      "\n",
      "For example, when doing 'df[col].method(value, inplace=True)', try using 'df.method({col: value}, inplace=True)' or df[col] = df[col].method(value) instead, to perform the operation inplace on the original object.\n",
      "\n",
      "\n",
      "  df['Author'].fillna(\"Unknown\", inplace=True)  # Fill missing with 'Unknown'\n"
     ]
    }
   ],
   "source": [
    "# Handle missing values\n",
    "df['Author'].fillna(\"Unknown\", inplace=True)  # Fill missing with 'Unknown'\n"
   ]
  },
  {
   "cell_type": "code",
   "execution_count": 10,
   "id": "e3e193da",
   "metadata": {},
   "outputs": [
    {
     "name": "stdout",
     "output_type": "stream",
     "text": [
      "['Jay Shetty' 'Héctor García' 'Mark Manson' ... 'Dervla Murphy'\n",
      " 'Elisabeth Elliot' 'Dr. Jeffrey S. Bland']\n"
     ]
    }
   ],
   "source": [
    "# Verify changes\n",
    "print(df['Author'].unique())  # Check for duplicates manually\n"
   ]
  },
  {
   "cell_type": "code",
   "execution_count": 11,
   "id": "263fb3d9",
   "metadata": {},
   "outputs": [
    {
     "data": {
      "text/plain": [
       "0       Think Like a Monk: The Secret of How to Harnes...\n",
       "1       Ikigai: The Japanese Secret to a Long and Happ...\n",
       "2       The Subtle Art of Not Giving a F*ck: A Counter...\n",
       "3       Atomic Habits: An Easy and Proven Way to Build...\n",
       "4       Life's Amazing Secrets: How to Find Balance an...\n",
       "                              ...                        \n",
       "4246    Passion and Purity: Learning to Bring Your Lov...\n",
       "4247        Things I Wish I'd Known Before We Got Married\n",
       "4248        Things I Wish I'd Known Before We Got Married\n",
       "4249    The Disease Delusion: Conquering the Causes of...\n",
       "4250    The Disease Delusion: Conquering the Causes of...\n",
       "Name: Book Name, Length: 4251, dtype: object"
      ]
     },
     "execution_count": 11,
     "metadata": {},
     "output_type": "execute_result"
    }
   ],
   "source": [
    "df['Book Name']"
   ]
  },
  {
   "cell_type": "code",
   "execution_count": 12,
   "id": "07a7d451",
   "metadata": {},
   "outputs": [],
   "source": [
    "import re"
   ]
  },
  {
   "cell_type": "code",
   "execution_count": 13,
   "id": "dcf3d52f",
   "metadata": {},
   "outputs": [],
   "source": [
    "# Function to fix title case while preserving meaningful lowercase words\n",
    "def clean_title(title):\n",
    "    exceptions = {'a', 'an', 'the', 'and', 'but', 'or', 'for', 'nor', 'on', 'at', 'to', 'by', 'from', 'in'}\n",
    "    words = title.split()\n",
    "    cleaned_words = [words[0].capitalize()] + [word if word.lower() in exceptions else word.capitalize() for word in words[1:]]\n",
    "    return \" \".join(cleaned_words)\n"
   ]
  },
  {
   "cell_type": "code",
   "execution_count": 14,
   "id": "b5f08d6a",
   "metadata": {},
   "outputs": [],
   "source": [
    "# Convert apostrophe formatting\n",
    "df['Book Name'] = df['Book Name'].str.replace(\"’\", \"'\", regex=True)  # Convert smart quotes\n",
    "df['Book Name'] = df['Book Name'].str.replace(r\"\\b(\\w+)'S\\b\", lambda x: x.group(1) + \"'s\", regex=True)  # Fix \"Life'S\" → \"Life's\"\n"
   ]
  },
  {
   "cell_type": "code",
   "execution_count": 15,
   "id": "f5ca621c",
   "metadata": {},
   "outputs": [],
   "source": [
    "# Apply title formatting with lowercase exceptions\n",
    "df['Book Name'] = df['Book Name'].apply(clean_title)\n"
   ]
  },
  {
   "cell_type": "code",
   "execution_count": 16,
   "id": "eed7bdb3",
   "metadata": {},
   "outputs": [],
   "source": [
    "# Remove leading/trailing spaces\n",
    "df['Book Name'] = df['Book Name'].str.strip()\n",
    "\n",
    "# Convert to title case (keeps proper noun formatting)\n",
    "df['Book Name'] = df['Book Name'].str.title()"
   ]
  },
  {
   "cell_type": "code",
   "execution_count": 17,
   "id": "f6301d13",
   "metadata": {},
   "outputs": [],
   "source": [
    "# Handle missing values (drop if critical, fill if needed)\n",
    "df.dropna(subset=['Book Name'], inplace=True)\n"
   ]
  },
  {
   "cell_type": "code",
   "execution_count": 18,
   "id": "cacc2398",
   "metadata": {},
   "outputs": [],
   "source": [
    "# Remove exact duplicate book names (optional)\n",
    "df.drop_duplicates(subset=['Book Name'], keep='first', inplace=True)\n"
   ]
  },
  {
   "cell_type": "code",
   "execution_count": 19,
   "id": "e36acf3c",
   "metadata": {},
   "outputs": [
    {
     "name": "stdout",
     "output_type": "stream",
     "text": [
      "['Think Like A Monk: The Secret Of How To Harness The Power Of Positivity And Be Happy Now'\n",
      " 'Ikigai: The Japanese Secret To A Long And Happy Life'\n",
      " 'The Subtle Art Of Not Giving A F*Ck: A Counterintuitive Approach To Living A Good Life'\n",
      " 'Atomic Habits: An Easy And Proven Way To Build Good Habits And Break Bad Ones'\n",
      " \"Life'S Amazing Secrets: How To Find Balance And Purpose In Your Life\"\n",
      " 'Sapiens' 'Extraordinary Leadership' 'The Intelligent Investor Rev Ed.'\n",
      " 'Rich Dad Poor Dad: What The Rich Teach Their Kids About Money - That The Poor And Middle Class Do Not!'\n",
      " 'The 5Am Club: Own Your Morning. Elevate Your Life.'\n",
      " 'Influence: The Psychology Of Persuasion'\n",
      " 'Dream With Your Eyes Open: An Entrepreneurial Journey' 'The Sandman'\n",
      " 'How To Win Friends And Influence People'\n",
      " 'The Alchemist: A Fable About Following Your Dream'\n",
      " 'Thinking, Fast And Slow'\n",
      " 'Just Do It: The Nike Spirit In The Corporate World'\n",
      " 'Sherlock Holmes: The Definitive Collection' 'Becoming'\n",
      " 'The Warren Buffett Way: 3Rd Edition' '21 Lessons For The 21St Century'\n",
      " 'Secrets Of The Millionaire Mind: Mastering The Inner Game Of Wealth'\n",
      " \"Let'S Talk Money: You'Ve Worked Hard For It, Now Make It Work For You\"\n",
      " 'Elon Musk' 'The Monk Who Sold His Ferrari'\n",
      " 'The Power Of Your Subconscious Mind'\n",
      " \"Can'T Hurt Me: Master Your Mind And Defy The Odds\"\n",
      " 'The Power Of Habit: Why We Do What We Do, And How To Change'\n",
      " \"Harry Potter And The Philosopher'S Stone, Book 1\"\n",
      " 'Inglorious Empire: What The British Did To India'\n",
      " 'Raavan: Enemy Of Aryavarta' 'My Gita' 'Zero To One'\n",
      " 'Limitless: Upgrade Your Brain, Learn Anything Faster, And Unlock Your Exceptional Life'\n",
      " 'The Unusual Billionaires' 'Chanakya Neeti'\n",
      " 'The Rudest Book Ever: Insanely Practical Ideas To Free Your Mind From All Bulls--T'\n",
      " \"Start With Why: How Great Leaders Inspire Everyone To Take Action (Int'L Edit.)\"\n",
      " 'Never Split The Difference: Negotiating As If Your Life Depended On It'\n",
      " 'Hyperfocus' 'The Tatas: How A Family Built A Business And A Nation'\n",
      " 'Homo Deus: A Brief History Of Tomorrow' 'Meri Gita'\n",
      " 'A Space Of Her Own: Personal Narratives Of Twelve Women'\n",
      " 'No Rules Rules: Netflix And The Culture Of Reinvention'\n",
      " 'Think And Grow Rich'\n",
      " \"Talking To Strangers: What We Should Know About The People We Don'T Know\"\n",
      " 'The Tales Of Beedle The Bard'\n",
      " 'The Hard Thing About Hard Things: Building A Business When There Are No Easy Answers'\n",
      " 'The Bhagavad Gita' 'To Kill A Mockingbird'\n",
      " 'Men Are From Mars, Women Are From Venus: The Classic Guide To Understanding The Opposite Sex'\n",
      " 'Trading In The Zone: Master The Market With Confidence, Discipline, And A Winning Attitude'\n",
      " 'Free: Professional Integrity (A Riyria Chronicles Tale)'\n",
      " 'Autobiography Of A Yogi' 'A Gentleman In Moscow'\n",
      " \"Hitchhiker'S Guide To The Galaxy\" 'Hit Refresh'\n",
      " 'A Suitable Boy (Dramatised)'\n",
      " 'Take Control Of Your Life: How To Silence Fear And Win The Mental Game'\n",
      " 'The 10X Rule: The Only Difference Between Success And Failure'\n",
      " 'A Game Of Thrones: Book 1 Of A Song Of Ice And Fire' 'Mythos'\n",
      " 'Apke Avchetan Man Ki Shakti [The Power Of Your Subconscious Mind]'\n",
      " 'Harry Potter And The Order Of The Phoenix, Book 5'\n",
      " 'Harry Potter And The Goblet Of Fire, Book 4'\n",
      " 'Harry Potter And The Half-Blood Prince, Book 6' 'Wings Of Fire'\n",
      " \"Man'S Search For Meaning\"\n",
      " 'Learn English: Word Power 101: Absolute Beginner English #1'\n",
      " \"The Lean Startup: How Today'S Entrepreneurs Use Continuous Innovation To Create Radically Successful Businesses\"\n",
      " 'The Girl On The Train'\n",
      " 'Range: How Generalists Triumph In A Specialized World'\n",
      " 'Everything Is F*Cked: A Book About Hope' 'The Girl In Room 105'\n",
      " 'Eat That Frog!'\n",
      " 'Everything Is Figureoutable: How One Simple Belief Can Help Us Overcome Any Obstacle And Create Unstoppable Success'\n",
      " 'A Brief History Of Time: From Big Bang To Black Holes' '1984'\n",
      " 'The Alchemist (Hindi Edition)'\n",
      " 'The Anarchy: The Relentless Rise Of The East India Company'\n",
      " 'Zen: The Art Of Simple Living'\n",
      " \"Poirot'S Finest Cases: Eight Full-Cast Bbc Radio Dramatisations\"\n",
      " 'Loaded: Money, Psychology, And How To Get Ahead Without Leaving Your Values Behind'\n",
      " 'Sochiye Aur Ameer Baniye [Think And Be Rich]'\n",
      " 'Tools Of Titans: The Tactics, Routines, And Habits Of Billionaires, Icons, And World-Class Performers'\n",
      " 'Good Economics For Hard Times: Better Answers To Our Biggest Problems'\n",
      " '365 Panchatantra Stories'\n",
      " 'The Dhandho Investor: The Low-Risk Value Method To High Returns'\n",
      " 'Talk English: The Secret To Speak English Like A Native In 6 Months For Busy People, Learn Spoken English From The Success'\n",
      " 'Azadi: Freedom. Fascism. Fiction.'\n",
      " 'Fire And Blood: 300 Years Before A Game Of Thrones (A Targaryen History) (A Song Of Ice And Fire)'\n",
      " 'Market Wizards: Interviews With Top Traders'\n",
      " 'The Story Of My Experiments With Truth: An Autobiography'\n",
      " '48 Laws Of Power'\n",
      " 'Romancing The Balance Sheet: For Anyone Who Owns, Runs Or Manages A Business'\n",
      " 'Yuval Noah Harari: Audible Sessions: Free Exclusive Interview'\n",
      " 'Who Will Cry When You Die? (Hindi): Life Lessons From The Monk Who Sold His Ferrari'\n",
      " 'Anxious People' 'Outliers: The Story Of Success']\n"
     ]
    }
   ],
   "source": [
    "# Verify changes\n",
    "print(df['Book Name'].unique()[:100])  # Display first 10 unique book names\n"
   ]
  },
  {
   "cell_type": "code",
   "execution_count": 20,
   "id": "e1c0f72f",
   "metadata": {},
   "outputs": [
    {
     "data": {
      "text/plain": [
       "np.int64(0)"
      ]
     },
     "execution_count": 20,
     "metadata": {},
     "output_type": "execute_result"
    }
   ],
   "source": [
    "df['Book Name'].isnull().sum()"
   ]
  },
  {
   "cell_type": "code",
   "execution_count": 21,
   "id": "3bd5b103",
   "metadata": {},
   "outputs": [
    {
     "data": {
      "text/plain": [
       "0       Over the past three years, Jay Shetty has beco...\n",
       "1                              Brought to you by Penguin.\n",
       "2       In this generation-defining self-help guide, a...\n",
       "3                              Brought to you by Penguin.\n",
       "4       Stop going through life,  Start growing throug...\n",
       "                              ...                        \n",
       "4243    Sorry, we just need to make sure you're not a ...\n",
       "4245    Full Tilt is the inspiring true story of Dervl...\n",
       "4246    \\n\\nOops!\\nIt's rush hour and traffic is pilin...\n",
       "4247    \\n\\nOops!\\nIt's rush hour and traffic is pilin...\n",
       "4249    Disease care vs health care: Which would you c...\n",
       "Name: Description, Length: 3347, dtype: object"
      ]
     },
     "execution_count": 21,
     "metadata": {},
     "output_type": "execute_result"
    }
   ],
   "source": [
    "df['Description']"
   ]
  },
  {
   "cell_type": "code",
   "execution_count": 22,
   "id": "23497a0f",
   "metadata": {},
   "outputs": [],
   "source": [
    "# Define irrelevant phrases to remove\n",
    "irrelevant_phrases = [\n",
    "    \"Brought to you by Penguin\",\n",
    "    \"Sorry, we just need to make sure you're not a robot\",\n",
    "    \"Oops!\",\n",
    "    \"It's rush hour and traffic is piling up\",\n",
    "    \"Disease care vs health care: Which would you choose?\",\n",
    "    \"Full Tilt is the inspiring true story\",  # Example of incomplete descriptions\n",
    "    \"Yuval Noah Harari: Audible Sessions: Free Exclusive Interview\"\n",
    "]\n"
   ]
  },
  {
   "cell_type": "code",
   "execution_count": 23,
   "id": "e461662b",
   "metadata": {},
   "outputs": [],
   "source": [
    "# Function to clean descriptions\n",
    "def clean_description(desc):\n",
    "    if pd.isna(desc) or any(phrase in desc for phrase in irrelevant_phrases):\n",
    "        return None  # Mark for removal\n",
    "    \n",
    "    # Remove newlines, tabs, and multiple spaces\n",
    "    desc = desc.replace(\"\\n\", \" \").replace(\"\\t\", \" \").strip()\n",
    "    \n",
    "    # Remove non-alphabetic characters except punctuation\n",
    "    desc = re.sub(r\"[^a-zA-Z0-9.,!?;'\\s]\", \"\", desc)\n",
    "    \n",
    "    # Convert to lowercase\n",
    "    desc = desc.lower()\n",
    "    \n",
    "    # Remove extra spaces\n",
    "    desc = re.sub(r\"\\s+\", \" \", desc)\n",
    "\n",
    "    return desc\n"
   ]
  },
  {
   "cell_type": "code",
   "execution_count": 24,
   "id": "1347b819",
   "metadata": {},
   "outputs": [],
   "source": [
    "# Apply cleaning\n",
    "df[\"cleaned_description\"] = df[\"Description\"].apply(clean_description)\n"
   ]
  },
  {
   "cell_type": "code",
   "execution_count": 25,
   "id": "3a8db94d",
   "metadata": {},
   "outputs": [],
   "source": [
    "# Drop rows where cleaned_description is empty\n",
    "df = df.dropna(subset=[\"cleaned_description\"]).reset_index(drop=True)\n"
   ]
  },
  {
   "cell_type": "code",
   "execution_count": 26,
   "id": "de81602f",
   "metadata": {},
   "outputs": [],
   "source": [
    "# Drop the original \"Description\" column\n",
    "df.drop(columns=[\"Description\"], inplace=True)\n",
    "\n"
   ]
  },
  {
   "cell_type": "code",
   "execution_count": 27,
   "id": "d5699cb0",
   "metadata": {},
   "outputs": [
    {
     "data": {
      "text/html": [
       "<div>\n",
       "<style scoped>\n",
       "    .dataframe tbody tr th:only-of-type {\n",
       "        vertical-align: middle;\n",
       "    }\n",
       "\n",
       "    .dataframe tbody tr th {\n",
       "        vertical-align: top;\n",
       "    }\n",
       "\n",
       "    .dataframe thead th {\n",
       "        text-align: right;\n",
       "    }\n",
       "</style>\n",
       "<table border=\"1\" class=\"dataframe\">\n",
       "  <thead>\n",
       "    <tr style=\"text-align: right;\">\n",
       "      <th></th>\n",
       "      <th>Book Name</th>\n",
       "      <th>Author</th>\n",
       "      <th>Listening Time</th>\n",
       "      <th>Rank_Genre</th>\n",
       "      <th>Rating</th>\n",
       "      <th>Number of Reviews</th>\n",
       "      <th>Price</th>\n",
       "      <th>cleaned_description</th>\n",
       "    </tr>\n",
       "  </thead>\n",
       "  <tbody>\n",
       "    <tr>\n",
       "      <th>0</th>\n",
       "      <td>Think Like A Monk: The Secret Of How To Harnes...</td>\n",
       "      <td>Jay Shetty</td>\n",
       "      <td>10 hours and 54 minutes</td>\n",
       "      <td>,#1 in Audible Audiobooks &amp; Originals (See Top...</td>\n",
       "      <td>4.9</td>\n",
       "      <td>313.0</td>\n",
       "      <td>10080.0</td>\n",
       "      <td>over the past three years, jay shetty has beco...</td>\n",
       "    </tr>\n",
       "    <tr>\n",
       "      <th>1</th>\n",
       "      <td>The Subtle Art Of Not Giving A F*Ck: A Counter...</td>\n",
       "      <td>Mark Manson</td>\n",
       "      <td>5 hours and 17 minutes</td>\n",
       "      <td>,#3 in Audible Audiobooks &amp; Originals (See Top...</td>\n",
       "      <td>4.4</td>\n",
       "      <td>20174.0</td>\n",
       "      <td>10378.0</td>\n",
       "      <td>in this generationdefining selfhelp guide, a s...</td>\n",
       "    </tr>\n",
       "    <tr>\n",
       "      <th>2</th>\n",
       "      <td>Life'S Amazing Secrets: How To Find Balance An...</td>\n",
       "      <td>Gaur Gopal Das</td>\n",
       "      <td>6 hours and 25 minutes</td>\n",
       "      <td>,#6 in Audible Audiobooks &amp; Originals (See Top...</td>\n",
       "      <td>4.6</td>\n",
       "      <td>4302.0</td>\n",
       "      <td>1005.0</td>\n",
       "      <td>stop going through life, start growing through...</td>\n",
       "    </tr>\n",
       "  </tbody>\n",
       "</table>\n",
       "</div>"
      ],
      "text/plain": [
       "                                           Book Name          Author  \\\n",
       "0  Think Like A Monk: The Secret Of How To Harnes...      Jay Shetty   \n",
       "1  The Subtle Art Of Not Giving A F*Ck: A Counter...     Mark Manson   \n",
       "2  Life'S Amazing Secrets: How To Find Balance An...  Gaur Gopal Das   \n",
       "\n",
       "            Listening Time                                         Rank_Genre  \\\n",
       "0  10 hours and 54 minutes  ,#1 in Audible Audiobooks & Originals (See Top...   \n",
       "1   5 hours and 17 minutes  ,#3 in Audible Audiobooks & Originals (See Top...   \n",
       "2   6 hours and 25 minutes  ,#6 in Audible Audiobooks & Originals (See Top...   \n",
       "\n",
       "   Rating  Number of Reviews    Price  \\\n",
       "0     4.9              313.0  10080.0   \n",
       "1     4.4            20174.0  10378.0   \n",
       "2     4.6             4302.0   1005.0   \n",
       "\n",
       "                                 cleaned_description  \n",
       "0  over the past three years, jay shetty has beco...  \n",
       "1  in this generationdefining selfhelp guide, a s...  \n",
       "2  stop going through life, start growing through...  "
      ]
     },
     "execution_count": 27,
     "metadata": {},
     "output_type": "execute_result"
    }
   ],
   "source": [
    "df.head(3)"
   ]
  },
  {
   "cell_type": "code",
   "execution_count": 28,
   "id": "207b95e9",
   "metadata": {},
   "outputs": [
    {
     "data": {
      "text/plain": [
       "0       10 hours and 54 minutes\n",
       "1        5 hours and 17 minutes\n",
       "2        6 hours and 25 minutes\n",
       "3       15 hours and 18 minutes\n",
       "4          1 hour and 6 minutes\n",
       "                 ...           \n",
       "2078                         -1\n",
       "2079                         -1\n",
       "2080                         -1\n",
       "2081                         -1\n",
       "2082                         -1\n",
       "Name: Listening Time, Length: 2083, dtype: object"
      ]
     },
     "execution_count": 28,
     "metadata": {},
     "output_type": "execute_result"
    }
   ],
   "source": [
    "df['Listening Time']"
   ]
  },
  {
   "cell_type": "code",
   "execution_count": 29,
   "id": "ecb95160",
   "metadata": {},
   "outputs": [],
   "source": [
    "# Function to convert \"X hours and Y minutes\" to total minutes\n",
    "def convert_to_minutes(time_str):\n",
    "    if time_str == \"-1\":\n",
    "        return None  # Treat \"-1\" as missing value\n",
    "    \n",
    "    # Extract hours and minutes using regex\n",
    "    match = re.search(r\"(\\d+)\\s*hours?\", time_str)\n",
    "    hours = int(match.group(1)) if match else 0\n",
    "\n",
    "    match = re.search(r\"(\\d+)\\s*minutes?\", time_str)\n",
    "    minutes = int(match.group(1)) if match else 0\n",
    "\n",
    "    return hours * 60 + minutes  # Convert to total minutes\n"
   ]
  },
  {
   "cell_type": "code",
   "execution_count": 30,
   "id": "7c58ffea",
   "metadata": {},
   "outputs": [],
   "source": [
    "# Apply conversion function\n",
    "df[\"Listening Time (minutes)\"] = df[\"Listening Time\"].astype(str).apply(convert_to_minutes)\n"
   ]
  },
  {
   "cell_type": "code",
   "execution_count": 31,
   "id": "456d60a5",
   "metadata": {},
   "outputs": [
    {
     "data": {
      "text/plain": [
       "0       654.0\n",
       "1       317.0\n",
       "2       385.0\n",
       "3       918.0\n",
       "4        66.0\n",
       "        ...  \n",
       "2078      NaN\n",
       "2079      NaN\n",
       "2080      NaN\n",
       "2081      NaN\n",
       "2082      NaN\n",
       "Name: Listening Time (minutes), Length: 2083, dtype: float64"
      ]
     },
     "execution_count": 31,
     "metadata": {},
     "output_type": "execute_result"
    }
   ],
   "source": [
    "df['Listening Time (minutes)']"
   ]
  },
  {
   "cell_type": "code",
   "execution_count": 32,
   "id": "14781317",
   "metadata": {},
   "outputs": [],
   "source": [
    "# Drop the original \"Listening Time\" column\n",
    "df.drop(columns=[\"Listening Time\"], inplace=True)\n"
   ]
  },
  {
   "cell_type": "code",
   "execution_count": 33,
   "id": "ea0f523d",
   "metadata": {},
   "outputs": [
    {
     "data": {
      "text/plain": [
       "0       654.0\n",
       "1       317.0\n",
       "2       385.0\n",
       "3       918.0\n",
       "4        66.0\n",
       "        ...  \n",
       "2078      NaN\n",
       "2079      NaN\n",
       "2080      NaN\n",
       "2081      NaN\n",
       "2082      NaN\n",
       "Name: Listening Time (minutes), Length: 2083, dtype: float64"
      ]
     },
     "execution_count": 33,
     "metadata": {},
     "output_type": "execute_result"
    }
   ],
   "source": [
    "df['Listening Time (minutes)']"
   ]
  },
  {
   "cell_type": "code",
   "execution_count": 34,
   "id": "c15390c5",
   "metadata": {},
   "outputs": [],
   "source": [
    "df[\"Listening Time (minutes)\"].fillna(df[\"Listening Time (minutes)\"].median(), inplace=True)\n"
   ]
  },
  {
   "cell_type": "code",
   "execution_count": 35,
   "id": "4a255d34",
   "metadata": {},
   "outputs": [],
   "source": [
    "df[\"Listening Time (minutes)\"] = df[\"Listening Time (minutes)\"].astype(\"Int64\")\n"
   ]
  },
  {
   "cell_type": "code",
   "execution_count": 36,
   "id": "9a05d305",
   "metadata": {},
   "outputs": [],
   "source": [
    "df = df[df[\"Listening Time (minutes)\"] < 2000]  # Example: Remove entries > 2000 min (33+ hrs)\n"
   ]
  },
  {
   "cell_type": "code",
   "execution_count": 37,
   "id": "f6c07a2e",
   "metadata": {},
   "outputs": [
    {
     "name": "stdout",
     "output_type": "stream",
     "text": [
      "<class 'pandas.core.frame.DataFrame'>\n",
      "Index: 2040 entries, 0 to 2082\n",
      "Data columns (total 8 columns):\n",
      " #   Column                    Non-Null Count  Dtype  \n",
      "---  ------                    --------------  -----  \n",
      " 0   Book Name                 2040 non-null   object \n",
      " 1   Author                    2040 non-null   object \n",
      " 2   Rank_Genre                2040 non-null   object \n",
      " 3   Rating                    2040 non-null   float64\n",
      " 4   Number of Reviews         1850 non-null   float64\n",
      " 5   Price                     2040 non-null   float64\n",
      " 6   cleaned_description       2040 non-null   object \n",
      " 7   Listening Time (minutes)  2040 non-null   Int64  \n",
      "dtypes: Int64(1), float64(3), object(4)\n",
      "memory usage: 145.4+ KB\n"
     ]
    }
   ],
   "source": [
    "df.info()"
   ]
  },
  {
   "cell_type": "code",
   "execution_count": 38,
   "id": "49ff172e",
   "metadata": {},
   "outputs": [
    {
     "data": {
      "text/plain": [
       "0         313.0\n",
       "1       20174.0\n",
       "2        4302.0\n",
       "3       19994.0\n",
       "4         179.0\n",
       "         ...   \n",
       "2078       88.0\n",
       "2079     2513.0\n",
       "2080        3.0\n",
       "2081        NaN\n",
       "2082       10.0\n",
       "Name: Number of Reviews, Length: 2040, dtype: float64"
      ]
     },
     "execution_count": 38,
     "metadata": {},
     "output_type": "execute_result"
    }
   ],
   "source": [
    "df['Number of Reviews']"
   ]
  },
  {
   "cell_type": "code",
   "execution_count": 39,
   "id": "0f7aa3e2",
   "metadata": {},
   "outputs": [],
   "source": [
    "df[\"Number of Reviews\"].fillna(df[\"Number of Reviews\"].median(), inplace=True)\n"
   ]
  },
  {
   "cell_type": "code",
   "execution_count": 40,
   "id": "78f6d56e",
   "metadata": {},
   "outputs": [],
   "source": [
    "df[\"Number of Reviews\"] = df[\"Number of Reviews\"].astype(\"Int64\")\n"
   ]
  },
  {
   "cell_type": "code",
   "execution_count": 41,
   "id": "1bd8238b",
   "metadata": {},
   "outputs": [],
   "source": [
    "df = df[df[\"Number of Reviews\"] < 20000]  # Example threshold\n"
   ]
  },
  {
   "cell_type": "code",
   "execution_count": 42,
   "id": "8ac9a4a7",
   "metadata": {},
   "outputs": [
    {
     "data": {
      "text/plain": [
       "0         313\n",
       "2        4302\n",
       "3       19994\n",
       "4         179\n",
       "5        9253\n",
       "        ...  \n",
       "2078       88\n",
       "2079     2513\n",
       "2080        3\n",
       "2081      319\n",
       "2082       10\n",
       "Name: Number of Reviews, Length: 2026, dtype: Int64"
      ]
     },
     "execution_count": 42,
     "metadata": {},
     "output_type": "execute_result"
    }
   ],
   "source": [
    "df['Number of Reviews']"
   ]
  },
  {
   "cell_type": "code",
   "execution_count": 43,
   "id": "1b4a0193",
   "metadata": {},
   "outputs": [
    {
     "name": "stdout",
     "output_type": "stream",
     "text": [
      "<class 'pandas.core.frame.DataFrame'>\n",
      "Index: 2026 entries, 0 to 2082\n",
      "Data columns (total 8 columns):\n",
      " #   Column                    Non-Null Count  Dtype  \n",
      "---  ------                    --------------  -----  \n",
      " 0   Book Name                 2026 non-null   object \n",
      " 1   Author                    2026 non-null   object \n",
      " 2   Rank_Genre                2026 non-null   object \n",
      " 3   Rating                    2026 non-null   float64\n",
      " 4   Number of Reviews         2026 non-null   Int64  \n",
      " 5   Price                     2026 non-null   float64\n",
      " 6   cleaned_description       2026 non-null   object \n",
      " 7   Listening Time (minutes)  2026 non-null   Int64  \n",
      "dtypes: Int64(2), float64(2), object(4)\n",
      "memory usage: 146.4+ KB\n"
     ]
    }
   ],
   "source": [
    "df.info()"
   ]
  },
  {
   "cell_type": "code",
   "execution_count": 44,
   "id": "e8f99c59",
   "metadata": {},
   "outputs": [
    {
     "data": {
      "text/plain": [
       "0       10080.0\n",
       "2        1005.0\n",
       "3        1093.0\n",
       "4           0.0\n",
       "5       18290.0\n",
       "         ...   \n",
       "2078      586.0\n",
       "2079       65.0\n",
       "2080      585.0\n",
       "2081       47.0\n",
       "2082      703.0\n",
       "Name: Price, Length: 2026, dtype: float64"
      ]
     },
     "execution_count": 44,
     "metadata": {},
     "output_type": "execute_result"
    }
   ],
   "source": [
    "df['Price']"
   ]
  },
  {
   "cell_type": "code",
   "execution_count": 45,
   "id": "dbfd36db",
   "metadata": {},
   "outputs": [],
   "source": [
    "df[\"Price\"].fillna(df[\"Price\"].median(), inplace=True)\n"
   ]
  },
  {
   "cell_type": "code",
   "execution_count": 46,
   "id": "0157b7fa",
   "metadata": {},
   "outputs": [],
   "source": [
    "df[\"Price\"] = df[\"Price\"].astype(\"Int64\")\n"
   ]
  },
  {
   "cell_type": "code",
   "execution_count": 47,
   "id": "168990f7",
   "metadata": {},
   "outputs": [],
   "source": [
    "df = df[df[\"Price\"] < 50000]  # Example threshold (adjust as needed)\n"
   ]
  },
  {
   "cell_type": "code",
   "execution_count": 48,
   "id": "264135ed",
   "metadata": {},
   "outputs": [],
   "source": [
    "df = df[df[\"Price\"] >= 0]\n"
   ]
  },
  {
   "cell_type": "code",
   "execution_count": null,
   "id": "e30947b1",
   "metadata": {},
   "outputs": [
    {
     "data": {
      "text/plain": [
       "0       10080\n",
       "2        1005\n",
       "3        1093\n",
       "4           0\n",
       "5       18290\n",
       "        ...  \n",
       "2078      586\n",
       "2079       65\n",
       "2080      585\n",
       "2081       47\n",
       "2082      703\n",
       "Name: Price, Length: 2026, dtype: Int64"
      ]
     },
     "execution_count": 49,
     "metadata": {},
     "output_type": "execute_result"
    }
   ],
   "source": [
    "df[\"Price\"]"
   ]
  },
  {
   "cell_type": "code",
   "execution_count": 50,
   "id": "04666826",
   "metadata": {},
   "outputs": [
    {
     "data": {
      "text/plain": [
       "0       4.9\n",
       "2       4.6\n",
       "3       4.6\n",
       "4       4.1\n",
       "5       4.4\n",
       "       ... \n",
       "2078    4.4\n",
       "2079    4.3\n",
       "2080    3.5\n",
       "2081   -1.0\n",
       "2082    5.0\n",
       "Name: Rating, Length: 2026, dtype: float64"
      ]
     },
     "execution_count": 50,
     "metadata": {},
     "output_type": "execute_result"
    }
   ],
   "source": [
    "df['Rating']"
   ]
  },
  {
   "cell_type": "code",
   "execution_count": 51,
   "id": "303e61fb",
   "metadata": {},
   "outputs": [],
   "source": [
    "import numpy as np\n",
    "df[\"Rating\"].replace(-1.0, np.nan, inplace=True)\n"
   ]
  },
  {
   "cell_type": "code",
   "execution_count": 52,
   "id": "96ea9fd0",
   "metadata": {},
   "outputs": [
    {
     "data": {
      "text/plain": [
       "np.int64(190)"
      ]
     },
     "execution_count": 52,
     "metadata": {},
     "output_type": "execute_result"
    }
   ],
   "source": [
    "df['Rating'].isnull().sum()"
   ]
  },
  {
   "cell_type": "code",
   "execution_count": 53,
   "id": "63e0262d",
   "metadata": {},
   "outputs": [],
   "source": [
    "df[\"Rating\"].fillna(df[\"Rating\"].median(), inplace=True)\n"
   ]
  },
  {
   "cell_type": "code",
   "execution_count": 54,
   "id": "c2095b9f",
   "metadata": {},
   "outputs": [],
   "source": [
    "df = df[(df[\"Rating\"] >= 0) & (df[\"Rating\"] <= 5)]\n"
   ]
  },
  {
   "cell_type": "code",
   "execution_count": 55,
   "id": "e5533994",
   "metadata": {},
   "outputs": [],
   "source": [
    "df[\"Rating\"] = df[\"Rating\"].astype(float)\n"
   ]
  },
  {
   "cell_type": "code",
   "execution_count": 56,
   "id": "9f74bc92",
   "metadata": {},
   "outputs": [
    {
     "data": {
      "text/plain": [
       "0       4.9\n",
       "2       4.6\n",
       "3       4.6\n",
       "4       4.1\n",
       "5       4.4\n",
       "       ... \n",
       "2078    4.4\n",
       "2079    4.3\n",
       "2080    3.5\n",
       "2081    4.5\n",
       "2082    5.0\n",
       "Name: Rating, Length: 2026, dtype: float64"
      ]
     },
     "execution_count": 56,
     "metadata": {},
     "output_type": "execute_result"
    }
   ],
   "source": [
    "df['Rating']"
   ]
  },
  {
   "cell_type": "code",
   "execution_count": 57,
   "id": "434cbc15",
   "metadata": {},
   "outputs": [
    {
     "data": {
      "text/plain": [
       "0       ,#1 in Audible Audiobooks & Originals (See Top...\n",
       "2       ,#6 in Audible Audiobooks & Originals (See Top...\n",
       "3       ,#4 in Audible Audiobooks & Originals (See Top...\n",
       "4       ,#1 Free in Audible Audiobooks & Originals (Se...\n",
       "5       ,#7 in Audible Audiobooks & Originals (See Top...\n",
       "                              ...                        \n",
       "2078                                                   -1\n",
       "2079                                                   -1\n",
       "2080                                                   -1\n",
       "2081                                                   -1\n",
       "2082                                                   -1\n",
       "Name: Rank_Genre, Length: 2026, dtype: object"
      ]
     },
     "execution_count": 57,
     "metadata": {},
     "output_type": "execute_result"
    }
   ],
   "source": [
    "df['Rank_Genre']"
   ]
  },
  {
   "cell_type": "code",
   "execution_count": 58,
   "id": "c64f40b9",
   "metadata": {},
   "outputs": [],
   "source": [
    "# Function to extract rank and genre\n",
    "def extract_rank_genre(value):\n",
    "    if value == \"-1\":\n",
    "        return pd.NA, pd.NA  # Replace -1 with NaN\n",
    "    rank_match = re.search(r\"#(\\d+)\", value)  # Extract rank number\n",
    "    genre_match = re.search(r\"in (.+?) \\(\", value)  # Extract genre\n",
    "    rank = int(rank_match.group(1)) if rank_match else pd.NA\n",
    "    genre = genre_match.group(1) if genre_match else pd.NA\n",
    "    return rank, genre\n"
   ]
  },
  {
   "cell_type": "code",
   "execution_count": 59,
   "id": "da1eb13f",
   "metadata": {},
   "outputs": [],
   "source": [
    "# Apply extraction\n",
    "df[[\"Rank\", \"Genre\"]] = df[\"Rank_Genre\"].apply(lambda x: pd.Series(extract_rank_genre(x)))\n"
   ]
  },
  {
   "cell_type": "code",
   "execution_count": 60,
   "id": "605070dd",
   "metadata": {},
   "outputs": [
    {
     "data": {
      "text/plain": [
       "0          1\n",
       "2          6\n",
       "3          4\n",
       "4          1\n",
       "5          7\n",
       "        ... \n",
       "2078    <NA>\n",
       "2079    <NA>\n",
       "2080    <NA>\n",
       "2081    <NA>\n",
       "2082    <NA>\n",
       "Name: Rank, Length: 2026, dtype: object"
      ]
     },
     "execution_count": 60,
     "metadata": {},
     "output_type": "execute_result"
    }
   ],
   "source": [
    "df['Rank']"
   ]
  },
  {
   "cell_type": "code",
   "execution_count": 61,
   "id": "bee31cca",
   "metadata": {},
   "outputs": [
    {
     "data": {
      "text/plain": [
       "0       Audible Audiobooks & Originals\n",
       "2       Audible Audiobooks & Originals\n",
       "3       Audible Audiobooks & Originals\n",
       "4       Audible Audiobooks & Originals\n",
       "5       Audible Audiobooks & Originals\n",
       "                     ...              \n",
       "2078                              <NA>\n",
       "2079                              <NA>\n",
       "2080                              <NA>\n",
       "2081                              <NA>\n",
       "2082                              <NA>\n",
       "Name: Genre, Length: 2026, dtype: object"
      ]
     },
     "execution_count": 61,
     "metadata": {},
     "output_type": "execute_result"
    }
   ],
   "source": [
    "df['Genre']"
   ]
  },
  {
   "cell_type": "code",
   "execution_count": 62,
   "id": "927ae668",
   "metadata": {},
   "outputs": [],
   "source": [
    "\n",
    "# Define keyword-based genre mappings\n",
    "# Keyword-based genre mapping\n",
    "genre_mapping = {\n",
    "    \"monk\": \"Self-Help\",\n",
    "    \"secret\": \"Self-Help\",\n",
    "    \"leadership\": \"Business\",\n",
    "    \"investor\": \"Finance\",\n",
    "    \"economics\": \"Finance\",\n",
    "    \"sapiens\": \"History\",\n",
    "    \"physics\": \"Science\",\n",
    "    \"quantum\": \"Science\",\n",
    "    \"hamlet\": \"Literature\",\n",
    "    \"shakespeare\": \"Literature\",\n",
    "    \"essays\": \"Philosophy\",\n",
    "    \"agility\": \"Business\",\n",
    "    \"enterprise\": \"Business\",\n",
    "}"
   ]
  },
  {
   "cell_type": "code",
   "execution_count": 63,
   "id": "f95a8d70",
   "metadata": {},
   "outputs": [],
   "source": [
    "\n",
    "# Function to classify genres based on keywords\n",
    "def classify_genre(book_name, current_genre):\n",
    "    book_name_lower = str(book_name).lower()\n",
    "    for keyword, genre in genre_mapping.items():\n",
    "        if keyword in book_name_lower:\n",
    "            return genre\n",
    "    return current_genre  # Keep the original genre if no match found\n"
   ]
  },
  {
   "cell_type": "code",
   "execution_count": 64,
   "id": "9d982c85",
   "metadata": {},
   "outputs": [],
   "source": [
    "# Apply the function to refine the Genre column\n",
    "df[\"Genre\"] = df.apply(lambda row: classify_genre(row[\"Book Name\"], row[\"Genre\"]), axis=1)\n"
   ]
  },
  {
   "cell_type": "code",
   "execution_count": 65,
   "id": "9ca3f15a",
   "metadata": {},
   "outputs": [
    {
     "data": {
      "text/html": [
       "<div>\n",
       "<style scoped>\n",
       "    .dataframe tbody tr th:only-of-type {\n",
       "        vertical-align: middle;\n",
       "    }\n",
       "\n",
       "    .dataframe tbody tr th {\n",
       "        vertical-align: top;\n",
       "    }\n",
       "\n",
       "    .dataframe thead th {\n",
       "        text-align: right;\n",
       "    }\n",
       "</style>\n",
       "<table border=\"1\" class=\"dataframe\">\n",
       "  <thead>\n",
       "    <tr style=\"text-align: right;\">\n",
       "      <th></th>\n",
       "      <th>Book Name</th>\n",
       "      <th>Genre</th>\n",
       "    </tr>\n",
       "  </thead>\n",
       "  <tbody>\n",
       "    <tr>\n",
       "      <th>0</th>\n",
       "      <td>Think Like A Monk: The Secret Of How To Harnes...</td>\n",
       "      <td>Self-Help</td>\n",
       "    </tr>\n",
       "    <tr>\n",
       "      <th>2</th>\n",
       "      <td>Life'S Amazing Secrets: How To Find Balance An...</td>\n",
       "      <td>Self-Help</td>\n",
       "    </tr>\n",
       "    <tr>\n",
       "      <th>3</th>\n",
       "      <td>Sapiens</td>\n",
       "      <td>History</td>\n",
       "    </tr>\n",
       "    <tr>\n",
       "      <th>4</th>\n",
       "      <td>Extraordinary Leadership</td>\n",
       "      <td>Business</td>\n",
       "    </tr>\n",
       "    <tr>\n",
       "      <th>5</th>\n",
       "      <td>The Intelligent Investor Rev Ed.</td>\n",
       "      <td>Finance</td>\n",
       "    </tr>\n",
       "    <tr>\n",
       "      <th>...</th>\n",
       "      <td>...</td>\n",
       "      <td>...</td>\n",
       "    </tr>\n",
       "    <tr>\n",
       "      <th>2078</th>\n",
       "      <td>God Is Not Dead: What Quantum Physics Tells Us...</td>\n",
       "      <td>Science</td>\n",
       "    </tr>\n",
       "    <tr>\n",
       "      <th>2079</th>\n",
       "      <td>Hamlet</td>\n",
       "      <td>Literature</td>\n",
       "    </tr>\n",
       "    <tr>\n",
       "      <th>2080</th>\n",
       "      <td>Coriolanus: Arkangel Shakespeare</td>\n",
       "      <td>Literature</td>\n",
       "    </tr>\n",
       "    <tr>\n",
       "      <th>2081</th>\n",
       "      <td>Essays 10: On The Shortness Of Life</td>\n",
       "      <td>Philosophy</td>\n",
       "    </tr>\n",
       "    <tr>\n",
       "      <th>2082</th>\n",
       "      <td>Enterprise Agility: Being Agile In A Changing ...</td>\n",
       "      <td>Business</td>\n",
       "    </tr>\n",
       "  </tbody>\n",
       "</table>\n",
       "<p>2026 rows × 2 columns</p>\n",
       "</div>"
      ],
      "text/plain": [
       "                                              Book Name       Genre\n",
       "0     Think Like A Monk: The Secret Of How To Harnes...   Self-Help\n",
       "2     Life'S Amazing Secrets: How To Find Balance An...   Self-Help\n",
       "3                                               Sapiens     History\n",
       "4                              Extraordinary Leadership    Business\n",
       "5                      The Intelligent Investor Rev Ed.     Finance\n",
       "...                                                 ...         ...\n",
       "2078  God Is Not Dead: What Quantum Physics Tells Us...     Science\n",
       "2079                                             Hamlet  Literature\n",
       "2080                   Coriolanus: Arkangel Shakespeare  Literature\n",
       "2081                Essays 10: On The Shortness Of Life  Philosophy\n",
       "2082  Enterprise Agility: Being Agile In A Changing ...    Business\n",
       "\n",
       "[2026 rows x 2 columns]"
      ]
     },
     "execution_count": 65,
     "metadata": {},
     "output_type": "execute_result"
    }
   ],
   "source": [
    "# Display the cleaned genre column\n",
    "df[[\"Book Name\", \"Genre\"]]"
   ]
  },
  {
   "cell_type": "code",
   "execution_count": 66,
   "id": "b6d49357",
   "metadata": {},
   "outputs": [
    {
     "data": {
      "text/plain": [
       "np.int64(371)"
      ]
     },
     "execution_count": 66,
     "metadata": {},
     "output_type": "execute_result"
    }
   ],
   "source": [
    "df['Genre'].isnull().sum()"
   ]
  },
  {
   "cell_type": "code",
   "execution_count": 67,
   "id": "97614f52",
   "metadata": {},
   "outputs": [
    {
     "data": {
      "text/plain": [
       "array(['Self-Help', 'History', 'Business', 'Finance',\n",
       "       'Audible Audiobooks & Originals', <NA>, 'Science',\n",
       "       'Crime, Thriller & Mystery',\n",
       "       'Political Theory,#381 in Healthy Living & Wellness,#1,582 in History',\n",
       "       'Contemporary Fiction', 'Romance', 'Fantasy', 'Asian History',\n",
       "       \"Children's Literature & Fiction\", 'Mysticism', 'Classic Fiction',\n",
       "       'Outdoor Survival Skills',\n",
       "       'History of Civilization & Culture,#174 in Ancient History',\n",
       "       'Biographies & Autobiographies',\n",
       "       'Economics Books,#3,922 in Biographies & Autobiographies',\n",
       "       'Theology & Philosophy of Religion,#1,058 in Christianity',\n",
       "       'Sports Training & Coaching', 'Ancient History', 'True Accounts',\n",
       "       'Literary Theory, History & Criticism,#1,158 in Society & Culture',\n",
       "       'Internet & Social Media', 'Science Fiction', 'Literature',\n",
       "       'Christianity', 'Spirituality',\n",
       "       'Family & Relationships,#30,174 in Society & Culture',\n",
       "       'Sciences, Technology & Medicine', 'Action & Adventure',\n",
       "       'Society & Culture', \"Children's History\",\n",
       "       'Healthy Living & Wellness,#6,114 in Biographies & Autobiographies',\n",
       "       'Philosophy'], dtype=object)"
      ]
     },
     "execution_count": 67,
     "metadata": {},
     "output_type": "execute_result"
    }
   ],
   "source": [
    "df['Genre'].unique()"
   ]
  },
  {
   "cell_type": "code",
   "execution_count": 68,
   "id": "79028f00",
   "metadata": {},
   "outputs": [
    {
     "data": {
      "text/plain": [
       "Genre\n",
       "Audible Audiobooks & Originals                                          1472\n",
       "Self-Help                                                                 79\n",
       "Business                                                                  20\n",
       "Finance                                                                   17\n",
       "Science                                                                   16\n",
       "Contemporary Fiction                                                       5\n",
       "Fantasy                                                                    4\n",
       "Crime, Thriller & Mystery                                                  4\n",
       "History                                                                    3\n",
       "Romance                                                                    3\n",
       "Philosophy                                                                 3\n",
       "Literature                                                                 3\n",
       "Biographies & Autobiographies                                              2\n",
       "Children's Literature & Fiction                                            2\n",
       "Asian History                                                              1\n",
       "Political Theory,#381 in Healthy Living & Wellness,#1,582 in History       1\n",
       "Outdoor Survival Skills                                                    1\n",
       "History of Civilization & Culture,#174 in Ancient History                  1\n",
       "Classic Fiction                                                            1\n",
       "Mysticism                                                                  1\n",
       "Theology & Philosophy of Religion,#1,058 in Christianity                   1\n",
       "Economics Books,#3,922 in Biographies & Autobiographies                    1\n",
       "True Accounts                                                              1\n",
       "Sports Training & Coaching                                                 1\n",
       "Literary Theory, History & Criticism,#1,158 in Society & Culture           1\n",
       "Internet & Social Media                                                    1\n",
       "Science Fiction                                                            1\n",
       "Ancient History                                                            1\n",
       "Christianity                                                               1\n",
       "Spirituality                                                               1\n",
       "Sciences, Technology & Medicine                                            1\n",
       "Family & Relationships,#30,174 in Society & Culture                        1\n",
       "Action & Adventure                                                         1\n",
       "Society & Culture                                                          1\n",
       "Children's History                                                         1\n",
       "Healthy Living & Wellness,#6,114 in Biographies & Autobiographies          1\n",
       "Name: count, dtype: int64"
      ]
     },
     "execution_count": 68,
     "metadata": {},
     "output_type": "execute_result"
    }
   ],
   "source": [
    "df['Genre'].value_counts()"
   ]
  },
  {
   "cell_type": "code",
   "execution_count": 69,
   "id": "696539e9",
   "metadata": {},
   "outputs": [
    {
     "data": {
      "text/plain": [
       "0          1\n",
       "2          6\n",
       "3          4\n",
       "4          1\n",
       "5          7\n",
       "        ... \n",
       "2078    <NA>\n",
       "2079    <NA>\n",
       "2080    <NA>\n",
       "2081    <NA>\n",
       "2082    <NA>\n",
       "Name: Rank, Length: 2026, dtype: object"
      ]
     },
     "execution_count": 69,
     "metadata": {},
     "output_type": "execute_result"
    }
   ],
   "source": [
    "df['Rank']"
   ]
  },
  {
   "cell_type": "code",
   "execution_count": 70,
   "id": "d2df3787",
   "metadata": {},
   "outputs": [],
   "source": [
    "# Convert Rank to numeric and replace <NA> or None with NaN\n",
    "df['Rank'] = pd.to_numeric(df['Rank'], errors='coerce')\n"
   ]
  },
  {
   "cell_type": "code",
   "execution_count": 71,
   "id": "0eed36ca",
   "metadata": {},
   "outputs": [
    {
     "data": {
      "text/plain": [
       "0       1.0\n",
       "2       6.0\n",
       "3       4.0\n",
       "4       1.0\n",
       "5       7.0\n",
       "       ... \n",
       "2078    NaN\n",
       "2079    NaN\n",
       "2080    NaN\n",
       "2081    NaN\n",
       "2082    NaN\n",
       "Name: Rank, Length: 2026, dtype: float64"
      ]
     },
     "execution_count": 71,
     "metadata": {},
     "output_type": "execute_result"
    }
   ],
   "source": [
    "df['Rank']"
   ]
  },
  {
   "cell_type": "code",
   "execution_count": 72,
   "id": "36285e40",
   "metadata": {},
   "outputs": [],
   "source": [
    "df.drop(columns=['Rank_Genre'], inplace=True)\n"
   ]
  },
  {
   "cell_type": "code",
   "execution_count": 73,
   "id": "0181052c",
   "metadata": {},
   "outputs": [
    {
     "name": "stdout",
     "output_type": "stream",
     "text": [
      "<class 'pandas.core.frame.DataFrame'>\n",
      "Index: 2026 entries, 0 to 2082\n",
      "Data columns (total 9 columns):\n",
      " #   Column                    Non-Null Count  Dtype  \n",
      "---  ------                    --------------  -----  \n",
      " 0   Book Name                 2026 non-null   object \n",
      " 1   Author                    2026 non-null   object \n",
      " 2   Rating                    2026 non-null   float64\n",
      " 3   Number of Reviews         2026 non-null   Int64  \n",
      " 4   Price                     2026 non-null   Int64  \n",
      " 5   cleaned_description       2026 non-null   object \n",
      " 6   Listening Time (minutes)  2026 non-null   Int64  \n",
      " 7   Rank                      1650 non-null   float64\n",
      " 8   Genre                     1655 non-null   object \n",
      "dtypes: Int64(3), float64(2), object(4)\n",
      "memory usage: 164.2+ KB\n"
     ]
    }
   ],
   "source": [
    "df.info()"
   ]
  },
  {
   "cell_type": "code",
   "execution_count": 74,
   "id": "c42d47f0",
   "metadata": {},
   "outputs": [],
   "source": [
    "df['Rank'] = df['Rank'].fillna(df['Rank'].median())  # Replace NaN with median\n"
   ]
  },
  {
   "cell_type": "code",
   "execution_count": 75,
   "id": "767b168c",
   "metadata": {},
   "outputs": [],
   "source": [
    "df['Rank'] = df['Rank'].astype('Int64')  # Keeps NaNs but converts others to integers\n"
   ]
  },
  {
   "cell_type": "code",
   "execution_count": 76,
   "id": "6b8b4f16",
   "metadata": {},
   "outputs": [
    {
     "name": "stdout",
     "output_type": "stream",
     "text": [
      "<class 'pandas.core.frame.DataFrame'>\n",
      "Index: 2026 entries, 0 to 2082\n",
      "Data columns (total 9 columns):\n",
      " #   Column                    Non-Null Count  Dtype  \n",
      "---  ------                    --------------  -----  \n",
      " 0   Book Name                 2026 non-null   object \n",
      " 1   Author                    2026 non-null   object \n",
      " 2   Rating                    2026 non-null   float64\n",
      " 3   Number of Reviews         2026 non-null   Int64  \n",
      " 4   Price                     2026 non-null   Int64  \n",
      " 5   cleaned_description       2026 non-null   object \n",
      " 6   Listening Time (minutes)  2026 non-null   Int64  \n",
      " 7   Rank                      2026 non-null   Int64  \n",
      " 8   Genre                     1655 non-null   object \n",
      "dtypes: Int64(4), float64(1), object(4)\n",
      "memory usage: 166.2+ KB\n"
     ]
    }
   ],
   "source": [
    "df.info()"
   ]
  },
  {
   "cell_type": "code",
   "execution_count": 77,
   "id": "0c605f5a",
   "metadata": {},
   "outputs": [],
   "source": [
    "df['Genre'] = df['Genre'].fillna('Unknown')\n"
   ]
  },
  {
   "cell_type": "code",
   "execution_count": 78,
   "id": "a6f1fcb8",
   "metadata": {},
   "outputs": [
    {
     "name": "stdout",
     "output_type": "stream",
     "text": [
      "<class 'pandas.core.frame.DataFrame'>\n",
      "Index: 2026 entries, 0 to 2082\n",
      "Data columns (total 9 columns):\n",
      " #   Column                    Non-Null Count  Dtype  \n",
      "---  ------                    --------------  -----  \n",
      " 0   Book Name                 2026 non-null   object \n",
      " 1   Author                    2026 non-null   object \n",
      " 2   Rating                    2026 non-null   float64\n",
      " 3   Number of Reviews         2026 non-null   Int64  \n",
      " 4   Price                     2026 non-null   Int64  \n",
      " 5   cleaned_description       2026 non-null   object \n",
      " 6   Listening Time (minutes)  2026 non-null   Int64  \n",
      " 7   Rank                      2026 non-null   Int64  \n",
      " 8   Genre                     2026 non-null   object \n",
      "dtypes: Int64(4), float64(1), object(4)\n",
      "memory usage: 166.2+ KB\n"
     ]
    }
   ],
   "source": [
    "df.info()"
   ]
  },
  {
   "cell_type": "code",
   "execution_count": 79,
   "id": "e9f4daa4",
   "metadata": {},
   "outputs": [],
   "source": [
    "df=df.to_csv('cleaned_book_data.csv',index=False)"
   ]
  }
 ],
 "metadata": {
  "kernelspec": {
   "display_name": "env",
   "language": "python",
   "name": "python3"
  },
  "language_info": {
   "codemirror_mode": {
    "name": "ipython",
    "version": 3
   },
   "file_extension": ".py",
   "mimetype": "text/x-python",
   "name": "python",
   "nbconvert_exporter": "python",
   "pygments_lexer": "ipython3",
   "version": "3.10.9"
  }
 },
 "nbformat": 4,
 "nbformat_minor": 5
}
