{
 "cells": [
  {
   "cell_type": "code",
   "execution_count": 1,
   "id": "c9b91bd3",
   "metadata": {},
   "outputs": [],
   "source": [
    "# Essential libraries for data handling, modeling, and visualization\n",
    "import pandas as pd\n",
    "import numpy as np\n",
    "import matplotlib.pyplot as plt\n",
    "import seaborn as sns"
   ]
  },
  {
   "cell_type": "code",
   "execution_count": 2,
   "id": "fbd73a6e",
   "metadata": {},
   "outputs": [],
   "source": [
    "# Libraries for NLP and clustering\n",
    "from sklearn.feature_extraction.text import TfidfVectorizer\n",
    "from sklearn.metrics.pairwise import cosine_similarity\n",
    "from sklearn.cluster import KMeans\n",
    "from sklearn.preprocessing import StandardScaler\n"
   ]
  },
  {
   "cell_type": "code",
   "execution_count": 3,
   "id": "b8cf81ae",
   "metadata": {},
   "outputs": [],
   "source": [
    "# Libraries for model evaluation\n",
    "from sklearn.metrics import mean_squared_error, mean_absolute_error\n"
   ]
  },
  {
   "cell_type": "code",
   "execution_count": 4,
   "id": "598e9d02",
   "metadata": {},
   "outputs": [],
   "source": [
    "# Surprise library for collaborative filtering\n",
    "from surprise import Dataset, Reader, SVD, accuracy\n",
    "from surprise.model_selection import train_test_split\n"
   ]
  },
  {
   "cell_type": "code",
   "execution_count": 5,
   "id": "ee982d7a",
   "metadata": {},
   "outputs": [],
   "source": [
    "# Suppress warnings for clean output\n",
    "import warnings\n",
    "warnings.filterwarnings(\"ignore\")"
   ]
  },
  {
   "cell_type": "code",
   "execution_count": 6,
   "id": "8cf28a6b",
   "metadata": {},
   "outputs": [
    {
     "data": {
      "text/html": [
       "<div>\n",
       "<style scoped>\n",
       "    .dataframe tbody tr th:only-of-type {\n",
       "        vertical-align: middle;\n",
       "    }\n",
       "\n",
       "    .dataframe tbody tr th {\n",
       "        vertical-align: top;\n",
       "    }\n",
       "\n",
       "    .dataframe thead th {\n",
       "        text-align: right;\n",
       "    }\n",
       "</style>\n",
       "<table border=\"1\" class=\"dataframe\">\n",
       "  <thead>\n",
       "    <tr style=\"text-align: right;\">\n",
       "      <th></th>\n",
       "      <th>Book Name</th>\n",
       "      <th>Author</th>\n",
       "      <th>Rating</th>\n",
       "      <th>Number of Reviews</th>\n",
       "      <th>Price</th>\n",
       "      <th>cleaned_description</th>\n",
       "      <th>Listening Time (minutes)</th>\n",
       "      <th>Rank</th>\n",
       "      <th>Genre</th>\n",
       "    </tr>\n",
       "  </thead>\n",
       "  <tbody>\n",
       "    <tr>\n",
       "      <th>0</th>\n",
       "      <td>Think Like A Monk: The Secret Of How To Harnes...</td>\n",
       "      <td>Jay Shetty</td>\n",
       "      <td>4.9</td>\n",
       "      <td>313</td>\n",
       "      <td>10080</td>\n",
       "      <td>over the past three years, jay shetty has beco...</td>\n",
       "      <td>654</td>\n",
       "      <td>1</td>\n",
       "      <td>Self-Help</td>\n",
       "    </tr>\n",
       "    <tr>\n",
       "      <th>1</th>\n",
       "      <td>Life'S Amazing Secrets: How To Find Balance An...</td>\n",
       "      <td>Gaur Gopal Das</td>\n",
       "      <td>4.6</td>\n",
       "      <td>4302</td>\n",
       "      <td>1005</td>\n",
       "      <td>stop going through life, start growing through...</td>\n",
       "      <td>385</td>\n",
       "      <td>6</td>\n",
       "      <td>Self-Help</td>\n",
       "    </tr>\n",
       "    <tr>\n",
       "      <th>2</th>\n",
       "      <td>Sapiens</td>\n",
       "      <td>Yuval Noah Harari</td>\n",
       "      <td>4.6</td>\n",
       "      <td>19994</td>\n",
       "      <td>1093</td>\n",
       "      <td>fire gave us power. farming made us hungry for...</td>\n",
       "      <td>918</td>\n",
       "      <td>4</td>\n",
       "      <td>History</td>\n",
       "    </tr>\n",
       "    <tr>\n",
       "      <th>3</th>\n",
       "      <td>Extraordinary Leadership</td>\n",
       "      <td>Robin Sharma</td>\n",
       "      <td>4.1</td>\n",
       "      <td>179</td>\n",
       "      <td>0</td>\n",
       "      <td>by completing your purchase you agree to audib...</td>\n",
       "      <td>66</td>\n",
       "      <td>1</td>\n",
       "      <td>Business</td>\n",
       "    </tr>\n",
       "    <tr>\n",
       "      <th>4</th>\n",
       "      <td>The Intelligent Investor Rev Ed.</td>\n",
       "      <td>Benjamin Graham</td>\n",
       "      <td>4.4</td>\n",
       "      <td>9253</td>\n",
       "      <td>18290</td>\n",
       "      <td>the classic text annotated to update graham's ...</td>\n",
       "      <td>1068</td>\n",
       "      <td>7</td>\n",
       "      <td>Finance</td>\n",
       "    </tr>\n",
       "  </tbody>\n",
       "</table>\n",
       "</div>"
      ],
      "text/plain": [
       "                                           Book Name             Author  \\\n",
       "0  Think Like A Monk: The Secret Of How To Harnes...         Jay Shetty   \n",
       "1  Life'S Amazing Secrets: How To Find Balance An...     Gaur Gopal Das   \n",
       "2                                            Sapiens  Yuval Noah Harari   \n",
       "3                           Extraordinary Leadership       Robin Sharma   \n",
       "4                   The Intelligent Investor Rev Ed.    Benjamin Graham   \n",
       "\n",
       "   Rating  Number of Reviews  Price  \\\n",
       "0     4.9                313  10080   \n",
       "1     4.6               4302   1005   \n",
       "2     4.6              19994   1093   \n",
       "3     4.1                179      0   \n",
       "4     4.4               9253  18290   \n",
       "\n",
       "                                 cleaned_description  \\\n",
       "0  over the past three years, jay shetty has beco...   \n",
       "1  stop going through life, start growing through...   \n",
       "2  fire gave us power. farming made us hungry for...   \n",
       "3  by completing your purchase you agree to audib...   \n",
       "4  the classic text annotated to update graham's ...   \n",
       "\n",
       "   Listening Time (minutes)  Rank      Genre  \n",
       "0                       654     1  Self-Help  \n",
       "1                       385     6  Self-Help  \n",
       "2                       918     4    History  \n",
       "3                        66     1   Business  \n",
       "4                      1068     7    Finance  "
      ]
     },
     "execution_count": 6,
     "metadata": {},
     "output_type": "execute_result"
    }
   ],
   "source": [
    "df=pd.read_csv('cleaned_book_data.csv')\n",
    "df.head()"
   ]
  },
  {
   "cell_type": "code",
   "execution_count": 7,
   "id": "d43e345d",
   "metadata": {},
   "outputs": [
    {
     "name": "stdout",
     "output_type": "stream",
     "text": [
      "<class 'pandas.core.frame.DataFrame'>\n",
      "RangeIndex: 2024 entries, 0 to 2023\n",
      "Data columns (total 9 columns):\n",
      " #   Column                    Non-Null Count  Dtype  \n",
      "---  ------                    --------------  -----  \n",
      " 0   Book Name                 2024 non-null   object \n",
      " 1   Author                    2024 non-null   object \n",
      " 2   Rating                    2024 non-null   float64\n",
      " 3   Number of Reviews         2024 non-null   int64  \n",
      " 4   Price                     2024 non-null   int64  \n",
      " 5   cleaned_description       2024 non-null   object \n",
      " 6   Listening Time (minutes)  2024 non-null   int64  \n",
      " 7   Rank                      2024 non-null   int64  \n",
      " 8   Genre                     2024 non-null   object \n",
      "dtypes: float64(1), int64(4), object(4)\n",
      "memory usage: 142.4+ KB\n"
     ]
    }
   ],
   "source": [
    "df.info()"
   ]
  },
  {
   "cell_type": "code",
   "execution_count": 8,
   "id": "126ab63b",
   "metadata": {},
   "outputs": [],
   "source": [
    "# Drop entries with missing cleaned_description (important for NLP)\n",
    "df.dropna(subset=['cleaned_description'], inplace=True)\n",
    "df.reset_index(drop=True, inplace=True)"
   ]
  },
  {
   "cell_type": "code",
   "execution_count": 9,
   "id": "9feff319",
   "metadata": {},
   "outputs": [
    {
     "data": {
      "text/plain": [
       "<Compressed Sparse Row sparse matrix of dtype 'float64'\n",
       "\twith 37232 stored elements and shape (2024, 5000)>"
      ]
     },
     "execution_count": 9,
     "metadata": {},
     "output_type": "execute_result"
    }
   ],
   "source": [
    "# Convert the cleaned text into numerical vectors\n",
    "tfidf = TfidfVectorizer(stop_words='english', max_features=5000)\n",
    "tfidf_matrix = tfidf.fit_transform(df['cleaned_description'])  # Matrix representation of text\n",
    "tfidf_matrix"
   ]
  },
  {
   "cell_type": "code",
   "execution_count": 10,
   "id": "9012bf79",
   "metadata": {},
   "outputs": [],
   "source": [
    "# Group similar books based on text features using KMeans\n",
    "kmeans = KMeans(n_clusters=10, random_state=42)\n",
    "df['cluster'] = kmeans.fit_predict(tfidf_matrix)\n"
   ]
  },
  {
   "cell_type": "code",
   "execution_count": 11,
   "id": "b8ad11fb",
   "metadata": {},
   "outputs": [
    {
     "data": {
      "image/png": "[encoded data removed]",
      "text/plain": [
       "<Figure size 800x500 with 1 Axes>"
      ]
     },
     "metadata": {},
     "output_type": "display_data"
    }
   ],
   "source": [
    "plt.figure(figsize=(8, 5))\n",
    "sns.countplot(x='cluster', data=df)\n",
    "plt.title(\"Cluster Distribution\")\n",
    "plt.xlabel(\"Cluster\")\n",
    "plt.ylabel(\"Book Count\")\n",
    "plt.show()"
   ]
  },
  {
   "cell_type": "code",
   "execution_count": 13,
   "id": "ea61a4d7",
   "metadata": {},
   "outputs": [],
   "source": [
    "def content_recommender(book_title, top_n=5):\n",
    "    # Get the index of the book\n",
    "    idx = df[df['Book Name'].str.lower() == book_title.lower()].index[0]\n",
    "\n",
    "    # Compute similarity between selected book and all others\n",
    "    cosine_sim = cosine_similarity(tfidf_matrix[idx], tfidf_matrix).flatten()\n",
    "\n",
    "    # Sort books by similarity score (excluding itself)\n",
    "    sim_scores = list(enumerate(cosine_sim))\n",
    "    sim_scores = sorted(sim_scores, key=lambda x: x[1], reverse=True)[1:top_n+1]\n",
    "    \n",
    "    # Get top similar book indices\n",
    "    book_indices = [i[0] for i in sim_scores]\n",
    "\n",
    "    return df[['Book Name', 'Author']].iloc[book_indices]\n"
   ]
  },
  {
   "cell_type": "code",
   "execution_count": 17,
   "id": "5e667ee5",
   "metadata": {},
   "outputs": [
    {
     "data": {
      "text/html": [
       "<div>\n",
       "<style scoped>\n",
       "    .dataframe tbody tr th:only-of-type {\n",
       "        vertical-align: middle;\n",
       "    }\n",
       "\n",
       "    .dataframe tbody tr th {\n",
       "        vertical-align: top;\n",
       "    }\n",
       "\n",
       "    .dataframe thead th {\n",
       "        text-align: right;\n",
       "    }\n",
       "</style>\n",
       "<table border=\"1\" class=\"dataframe\">\n",
       "  <thead>\n",
       "    <tr style=\"text-align: right;\">\n",
       "      <th></th>\n",
       "      <th>Book Name</th>\n",
       "      <th>Author</th>\n",
       "    </tr>\n",
       "  </thead>\n",
       "  <tbody>\n",
       "    <tr>\n",
       "      <th>925</th>\n",
       "      <td>The Facebook Effect: The Inside Story Of The C...</td>\n",
       "      <td>David Kirkpatrick</td>\n",
       "    </tr>\n",
       "    <tr>\n",
       "      <th>865</th>\n",
       "      <td>The Rise And Fall Of The Dinosaurs: The Untold...</td>\n",
       "      <td>Steve Brusatte</td>\n",
       "    </tr>\n",
       "    <tr>\n",
       "      <th>229</th>\n",
       "      <td>The First 90 Days, Updated And Expanded: Prove...</td>\n",
       "      <td>Michael Watkins</td>\n",
       "    </tr>\n",
       "    <tr>\n",
       "      <th>1835</th>\n",
       "      <td>Built To Serve: Find Your Purpose And Become T...</td>\n",
       "      <td>Evan Carmichael</td>\n",
       "    </tr>\n",
       "    <tr>\n",
       "      <th>1582</th>\n",
       "      <td>On The Origin Of Species</td>\n",
       "      <td>Richard Dawkins</td>\n",
       "    </tr>\n",
       "  </tbody>\n",
       "</table>\n",
       "</div>"
      ],
      "text/plain": [
       "                                              Book Name             Author\n",
       "925   The Facebook Effect: The Inside Story Of The C...  David Kirkpatrick\n",
       "865   The Rise And Fall Of The Dinosaurs: The Untold...     Steve Brusatte\n",
       "229   The First 90 Days, Updated And Expanded: Prove...    Michael Watkins\n",
       "1835  Built To Serve: Find Your Purpose And Become T...    Evan Carmichael\n",
       "1582                           On The Origin Of Species    Richard Dawkins"
      ]
     },
     "execution_count": 17,
     "metadata": {},
     "output_type": "execute_result"
    }
   ],
   "source": [
    "content_recommender(\"Think Like A Monk: The Secret Of How To Harness The Power Of Positivity And Be Happy Now\")"
   ]
  },
  {
   "cell_type": "code",
   "execution_count": 14,
   "id": "a3688656",
   "metadata": {},
   "outputs": [],
   "source": [
    "def cluster_recommender(book_title, top_n=5):\n",
    "    # Find the cluster of the input book\n",
    "    cluster_label = df[df['Book Name'].str.lower() == book_title.lower()]['cluster'].values[0]\n",
    "\n",
    "    # Get books from the same cluster\n",
    "    similar_books = df[df['cluster'] == cluster_label]\n",
    "\n",
    "    # Return a random sample of books from that cluster\n",
    "    return similar_books[['Book Name', 'Author']].sample(n=top_n)"
   ]
  },
  {
   "cell_type": "code",
   "execution_count": 18,
   "id": "de3757b5",
   "metadata": {},
   "outputs": [
    {
     "data": {
      "text/html": [
       "<div>\n",
       "<style scoped>\n",
       "    .dataframe tbody tr th:only-of-type {\n",
       "        vertical-align: middle;\n",
       "    }\n",
       "\n",
       "    .dataframe tbody tr th {\n",
       "        vertical-align: top;\n",
       "    }\n",
       "\n",
       "    .dataframe thead th {\n",
       "        text-align: right;\n",
       "    }\n",
       "</style>\n",
       "<table border=\"1\" class=\"dataframe\">\n",
       "  <thead>\n",
       "    <tr style=\"text-align: right;\">\n",
       "      <th></th>\n",
       "      <th>Book Name</th>\n",
       "      <th>Author</th>\n",
       "    </tr>\n",
       "  </thead>\n",
       "  <tbody>\n",
       "    <tr>\n",
       "      <th>1061</th>\n",
       "      <td>Dhyan Ki Bhumika (Hindi)</td>\n",
       "      <td>Osho</td>\n",
       "    </tr>\n",
       "    <tr>\n",
       "      <th>742</th>\n",
       "      <td>Kargil: Untold Stories From The War</td>\n",
       "      <td>Rachna Bisht</td>\n",
       "    </tr>\n",
       "    <tr>\n",
       "      <th>1423</th>\n",
       "      <td>Energy Medicine: Balancing Your Body'S Energie...</td>\n",
       "      <td>Donna Eden</td>\n",
       "    </tr>\n",
       "    <tr>\n",
       "      <th>596</th>\n",
       "      <td>Everyday Ayurveda: Daily Habits That Can Chang...</td>\n",
       "      <td>Bhaswati Bhattacharya</td>\n",
       "    </tr>\n",
       "    <tr>\n",
       "      <th>173</th>\n",
       "      <td>India'S Wars: A Military History (1947-1971)</td>\n",
       "      <td>Arjun Subramaniam</td>\n",
       "    </tr>\n",
       "  </tbody>\n",
       "</table>\n",
       "</div>"
      ],
      "text/plain": [
       "                                              Book Name                 Author\n",
       "1061                           Dhyan Ki Bhumika (Hindi)                   Osho\n",
       "742                 Kargil: Untold Stories From The War           Rachna Bisht\n",
       "1423  Energy Medicine: Balancing Your Body'S Energie...             Donna Eden\n",
       "596   Everyday Ayurveda: Daily Habits That Can Chang...  Bhaswati Bhattacharya\n",
       "173        India'S Wars: A Military History (1947-1971)      Arjun Subramaniam"
      ]
     },
     "execution_count": 18,
     "metadata": {},
     "output_type": "execute_result"
    }
   ],
   "source": [
    "cluster_recommender(\"Think Like A Monk: The Secret Of How To Harness The Power Of Positivity And Be Happy Now\")"
   ]
  },
  {
   "cell_type": "code",
   "execution_count": 15,
   "id": "7ce284b6",
   "metadata": {},
   "outputs": [],
   "source": [
    "def hybrid_recommender(book_title, top_n=5):\n",
    "    # Get both content-based and clustering-based results\n",
    "    content_rec = content_recommender(book_title, top_n=10)\n",
    "    cluster_rec = cluster_recommender(book_title, top_n=10)\n",
    "\n",
    "    # Merge both results based on Book Name and Author\n",
    "    hybrid = pd.merge(content_rec, cluster_rec, how='inner', on=['Book Name', 'Author'])\n",
    "\n",
    "    return hybrid.head(top_n)"
   ]
  },
  {
   "cell_type": "code",
   "execution_count": 21,
   "id": "9c763e24",
   "metadata": {},
   "outputs": [
    {
     "data": {
      "text/html": [
       "<div>\n",
       "<style scoped>\n",
       "    .dataframe tbody tr th:only-of-type {\n",
       "        vertical-align: middle;\n",
       "    }\n",
       "\n",
       "    .dataframe tbody tr th {\n",
       "        vertical-align: top;\n",
       "    }\n",
       "\n",
       "    .dataframe thead th {\n",
       "        text-align: right;\n",
       "    }\n",
       "</style>\n",
       "<table border=\"1\" class=\"dataframe\">\n",
       "  <thead>\n",
       "    <tr style=\"text-align: right;\">\n",
       "      <th></th>\n",
       "      <th>Book Name</th>\n",
       "      <th>Author</th>\n",
       "    </tr>\n",
       "  </thead>\n",
       "  <tbody>\n",
       "  </tbody>\n",
       "</table>\n",
       "</div>"
      ],
      "text/plain": [
       "Empty DataFrame\n",
       "Columns: [Book Name, Author]\n",
       "Index: []"
      ]
     },
     "execution_count": 21,
     "metadata": {},
     "output_type": "execute_result"
    }
   ],
   "source": [
    "hybrid_recommender(\"Just Do It: The Nike Spirit In The Corporate World\")"
   ]
  },
  {
   "cell_type": "code",
   "execution_count": 22,
   "id": "8b0e3097",
   "metadata": {},
   "outputs": [],
   "source": [
    "ratings = df[['Book Name', 'Rating']].copy()\n",
    "ratings.dropna(inplace=True)\n",
    "ratings = ratings.rename(columns={'Book Name': 'item', 'Rating': 'rating'})\n",
    "ratings['user'] = np.random.randint(1, 1000, ratings.shape[0])  # Synthetic user IDs\n",
    "\n",
    "reader = Reader(rating_scale=(1, 5))\n",
    "data = Dataset.load_from_df(ratings[['user', 'item', 'rating']], reader)\n",
    "trainset, testset = train_test_split(data, test_size=0.2, random_state=42)\n",
    "\n",
    "model = SVD()\n",
    "model.fit(trainset)\n",
    "predictions = model.test(testset)\n"
   ]
  },
  {
   "cell_type": "code",
   "execution_count": 23,
   "id": "13f645a2",
   "metadata": {},
   "outputs": [
    {
     "name": "stdout",
     "output_type": "stream",
     "text": [
      "RMSE: 0.3291\n",
      "MAE:  0.2006\n"
     ]
    }
   ],
   "source": [
    "# Evaluate with RMSE & MAE\n",
    "rmse = accuracy.rmse(predictions)\n",
    "mae = accuracy.mae(predictions)\n"
   ]
  },
  {
   "cell_type": "code",
   "execution_count": 24,
   "id": "38878a22",
   "metadata": {},
   "outputs": [],
   "source": [
    "from sklearn.metrics import mean_squared_error, mean_absolute_error\n",
    "y_true = [pred.r_ui for pred in predictions]\n",
    "y_pred = [pred.est for pred in predictions]\n"
   ]
  },
  {
   "cell_type": "code",
   "execution_count": 25,
   "id": "f70c740f",
   "metadata": {},
   "outputs": [
    {
     "name": "stdout",
     "output_type": "stream",
     "text": [
      "Manual RMSE: 0.3290623332918824\n",
      "Manual MAE: 0.2006455619934968\n"
     ]
    }
   ],
   "source": [
    "rmse_manual = np.sqrt(mean_squared_error(y_true, y_pred))\n",
    "mae_manual = mean_absolute_error(y_true, y_pred)\n",
    "\n",
    "print(\"Manual RMSE:\", rmse_manual)\n",
    "print(\"Manual MAE:\", mae_manual)"
   ]
  },
  {
   "cell_type": "code",
   "execution_count": 26,
   "id": "5895bd9f",
   "metadata": {},
   "outputs": [],
   "source": [
    "# Precision & Recall @5\n",
    "from collections import defaultdict\n",
    "\n",
    "def get_top_n(predictions, n=5, threshold=4.0):\n",
    "    top_n = defaultdict(list)\n",
    "    for uid, iid, true_r, est, _ in predictions:\n",
    "        if est >= threshold:\n",
    "            top_n[uid].append((iid, est))\n",
    "    for uid, user_ratings in top_n.items():\n",
    "        top_n[uid] = sorted(user_ratings, key=lambda x: x[1], reverse=True)[:n]\n",
    "    return top_n\n",
    "\n",
    "top_n_pred = get_top_n(predictions, n=5)\n",
    "actual = defaultdict(set)\n",
    "for uid, iid, true_r in testset:\n",
    "    if true_r >= 4.0:\n",
    "        actual[uid].add(iid)\n",
    "\n",
    "precisions = []\n",
    "recalls = []\n"
   ]
  },
  {
   "cell_type": "code",
   "execution_count": 28,
   "id": "017bced2",
   "metadata": {},
   "outputs": [
    {
     "name": "stdout",
     "output_type": "stream",
     "text": [
      "Average Precision: 0.9941239316239315\n",
      "Average Recall: 1.0\n"
     ]
    }
   ],
   "source": [
    "for uid in actual:\n",
    "    actual_items = actual[uid]\n",
    "    predicted_items = set([iid for (iid, _) in top_n_pred.get(uid, [])])\n",
    "    true_positives = predicted_items & actual_items\n",
    "    precision = len(true_positives) / len(predicted_items) if predicted_items else 0\n",
    "    recall = len(true_positives) / len(actual_items) if actual_items else 0\n",
    "    precisions.append(precision)\n",
    "    recalls.append(recall)\n",
    "\n",
    "avg_precision = np.mean(precisions)\n",
    "avg_recall = np.mean(recalls)\n",
    "\n",
    "print(\"Average Precision:\", avg_precision)\n",
    "print(\"Average Recall:\", avg_recall)\n"
   ]
  },
  {
   "cell_type": "code",
   "execution_count": 29,
   "id": "d6494ea7",
   "metadata": {},
   "outputs": [
    {
     "data": {
      "image/png": "[encoded data removed]",
      "text/plain": [
       "<Figure size 800x600 with 1 Axes>"
      ]
     },
     "metadata": {},
     "output_type": "display_data"
    }
   ],
   "source": [
    "results = pd.DataFrame([(pred.uid, pred.iid, pred.r_ui, pred.est) for pred in predictions],\n",
    "                       columns=['user', 'item', 'rating', 'predicted'])\n",
    "\n",
    "plt.figure(figsize=(8, 6))\n",
    "plt.scatter(results['rating'], results['predicted'], alpha=0.5, color='teal', edgecolor='k')\n",
    "plt.plot([1, 5], [1, 5], linestyle='--', color='red')  # Line y=x\n",
    "plt.xlabel('Actual Rating')\n",
    "plt.ylabel('Predicted Rating')\n",
    "plt.title('Actual vs Predicted Ratings (SVD Model)')\n",
    "plt.grid(True)\n",
    "plt.tight_layout()\n",
    "plt.show()"
   ]
  },
  {
   "cell_type": "markdown",
   "id": "5e800c06",
   "metadata": {},
   "source": [
    "##  Evaluation Summary\n",
    "\n",
    "\n",
    "\n",
    "|  **Metric**         |  **Value**     | **Interpretation**                                                                 |\n",
    "|----------------------|------------------|----------------------------------------------------------------------------------------|\n",
    "| ✅ **Average Precision** | **0.9941**         | Nearly all recommended books are relevant — excellent precision.                      |\n",
    "| ✅ **Average Recall**    | **1.0000**         | All relevant books were successfully retrieved — perfect recall.                      |\n",
    "| 📉 **RMSE**             | **0.3291**         | Very low prediction error — the system predicts ratings with high accuracy.           |\n",
    "| 📉 **MAE**              | **0.2006**         | On average, predictions deviate by only 0.2 from actual ratings — highly reliable.    |\n",
    "\n"
   ]
  }
 ],
 "metadata": {
  "kernelspec": {
   "display_name": "env",
   "language": "python",
   "name": "python3"
  },
  "language_info": {
   "codemirror_mode": {
    "name": "ipython",
    "version": 3
   },
   "file_extension": ".py",
   "mimetype": "text/x-python",
   "name": "python",
   "nbconvert_exporter": "python",
   "pygments_lexer": "ipython3",
   "version": "3.10.9"
  }
 },
 "nbformat": 4,
 "nbformat_minor": 5
}
